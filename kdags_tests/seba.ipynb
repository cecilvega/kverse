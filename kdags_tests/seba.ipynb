{
 "cells": [
  {
   "cell_type": "code",
   "execution_count": null,
   "id": "initial_id",
   "metadata": {
    "collapsed": true
   },
   "outputs": [],
   "source": [
    ""
   ]
  },
  {
   "metadata": {
    "collapsed": true,
    "ExecuteTime": {
     "end_time": "2025-03-22T23:22:20.374492Z",
     "start_time": "2025-03-22T23:22:15.360723Z"
    }
   },
   "cell_type": "code",
   "source": [
    "### CORRERLO INICIALENTE ###\n",
    "%load_ext autoreload\n",
    "%autoreload 2\n",
    "%reload_ext autoreload\n",
    "\n",
    "import sys\n",
    "from pathlib import Path\n",
    "\n",
    "import pandas as pd\n",
    "import polars as pl\n",
    "import dagster as dg\n",
    "from kdags.resources.dplyr import *\n",
    "from kdags.resources.tidyr import *\n",
    "from io import BytesIO\n",
    "import pdfplumber\n",
    "\n",
    "from datetime import datetime\n",
    "import re\n",
    "import os\n",
    "from kdags.definitions import *\n",
    "from kdags.readr import *\n",
    "\n",
    "context = dg.build_asset_context()\n",
    "### IGNORAR ###"
   ],
   "id": "a408e3f0a0ec1601",
   "outputs": [],
   "execution_count": 1
  },
  {
   "metadata": {
    "ExecuteTime": {
     "end_time": "2025-03-22T23:23:00.503149Z",
     "start_time": "2025-03-22T23:22:48.840096Z"
    }
   },
   "cell_type": "code",
   "source": "Readr.Operation.read_haul()",
   "id": "1e4305e9151f951e",
   "outputs": [
    {
     "data": {
      "text/plain": [
       "shape: (1_266_088, 31)\n",
       "┌───────────┬───────────┬───────────┬───────────┬───┬───────────┬───────────┬───────────┬──────────┐\n",
       "│ equipment ┆ record_da ┆ record_dt ┆ payload_n ┆ … ┆ left_fron ┆ right_fro ┆ rear_tire ┆ gross_pa │\n",
       "│ _name     ┆ te        ┆ ---       ┆ et        ┆   ┆ t_tire_tk ┆ nt_tire_t ┆ _tkph     ┆ yload    │\n",
       "│ ---       ┆ ---       ┆ datetime[ ┆ ---       ┆   ┆ ph        ┆ kph       ┆ ---       ┆ ---      │\n",
       "│ str       ┆ date      ┆ μs]       ┆ f64       ┆   ┆ ---       ┆ ---       ┆ f64       ┆ f64      │\n",
       "│           ┆           ┆           ┆           ┆   ┆ f64       ┆ f64       ┆           ┆          │\n",
       "╞═══════════╪═══════════╪═══════════╪═══════════╪═══╪═══════════╪═══════════╪═══════════╪══════════╡\n",
       "│ TK284     ┆ 2020-11-1 ┆ 2020-11-1 ┆ 0.0       ┆ … ┆ 812.72    ┆ 869.05    ┆ 466.71    ┆ 69.02    │\n",
       "│           ┆ 9         ┆ 9         ┆           ┆   ┆           ┆           ┆           ┆          │\n",
       "│           ┆           ┆ 05:20:01  ┆           ┆   ┆           ┆           ┆           ┆          │\n",
       "│ TK284     ┆ 2020-11-2 ┆ 2020-11-2 ┆ 87.32     ┆ … ┆ 436.13    ┆ 468.32    ┆ 252.67    ┆ 78.94    │\n",
       "│           ┆ 3         ┆ 3         ┆           ┆   ┆           ┆           ┆           ┆          │\n",
       "│           ┆           ┆ 18:18:23  ┆           ┆   ┆           ┆           ┆           ┆          │\n",
       "│ TK284     ┆ 2021-03-1 ┆ 2021-03-1 ┆ 0.0       ┆ … ┆ 537.52    ┆ 572.93    ┆ 292.9     ┆ 10.58    │\n",
       "│           ┆ 6         ┆ 6         ┆           ┆   ┆           ┆           ┆           ┆          │\n",
       "│           ┆           ┆ 02:02:49  ┆           ┆   ┆           ┆           ┆           ┆          │\n",
       "│ TK284     ┆ 2021-04-2 ┆ 2021-04-2 ┆ 69.35     ┆ … ┆ 24.14     ┆ 28.97     ┆ 16.09     ┆ 69.35    │\n",
       "│           ┆ 1         ┆ 1         ┆           ┆   ┆           ┆           ┆           ┆          │\n",
       "│           ┆           ┆ 15:46:18  ┆           ┆   ┆           ┆           ┆           ┆          │\n",
       "│ TK284     ┆ 2021-05-1 ┆ 2021-05-1 ┆ 100.55    ┆ … ┆ 233.35    ┆ 418.43    ┆ 304.17    ┆ 90.19    │\n",
       "│           ┆ 8         ┆ 8         ┆           ┆   ┆           ┆           ┆           ┆          │\n",
       "│           ┆           ┆ 18:06:45  ┆           ┆   ┆           ┆           ┆           ┆          │\n",
       "│ …         ┆ …         ┆ …         ┆ …         ┆ … ┆ …         ┆ …         ┆ …         ┆ …        │\n",
       "│ TK883     ┆ 2023-10-0 ┆ 2023-10-0 ┆ 370.56    ┆ … ┆ 3073.85   ┆ 2718.18   ┆ 1656.01   ┆ 373.76   │\n",
       "│           ┆ 9         ┆ 9         ┆           ┆   ┆           ┆           ┆           ┆          │\n",
       "│           ┆           ┆ 15:22:05  ┆           ┆   ┆           ┆           ┆           ┆          │\n",
       "│ TK883     ┆ 2023-10-0 ┆ 2023-10-0 ┆ 353.8     ┆ … ┆ 2813.13   ┆ 3151.1    ┆ 1730.04   ┆ 357.11   │\n",
       "│           ┆ 9         ┆ 9         ┆           ┆   ┆           ┆           ┆           ┆          │\n",
       "│           ┆           ┆ 16:20:17  ┆           ┆   ┆           ┆           ┆           ┆          │\n",
       "│ TK883     ┆ 2023-10-0 ┆ 2023-10-0 ┆ 350.83    ┆ … ┆ 2665.07   ┆ 3012.69   ┆ 1670.5    ┆ 354.02   │\n",
       "│           ┆ 9         ┆ 9         ┆           ┆   ┆           ┆           ┆           ┆          │\n",
       "│           ┆           ┆ 17:15:24  ┆           ┆   ┆           ┆           ┆           ┆          │\n",
       "│ TK883     ┆ 2023-10-0 ┆ 2023-10-0 ┆ 360.64    ┆ … ┆ 2122.72   ┆ 2248.25   ┆ 1271.38   ┆ 363.84   │\n",
       "│           ┆ 9         ┆ 9         ┆           ┆   ┆           ┆           ┆           ┆          │\n",
       "│           ┆           ┆ 18:13:57  ┆           ┆   ┆           ┆           ┆           ┆          │\n",
       "│ TK883     ┆ 2023-10-0 ┆ 2023-10-0 ┆ 271.0     ┆ … ┆ 1514.39   ┆ 1319.66   ┆ 806.28    ┆ 274.31   │\n",
       "│           ┆ 9         ┆ 9         ┆           ┆   ┆           ┆           ┆           ┆          │\n",
       "│           ┆           ┆ 19:38:57  ┆           ┆   ┆           ┆           ┆           ┆          │\n",
       "└───────────┴───────────┴───────────┴───────────┴───┴───────────┴───────────┴───────────┴──────────┘"
      ],
      "text/html": [
       "<div><style>\n",
       ".dataframe > thead > tr,\n",
       ".dataframe > tbody > tr {\n",
       "  text-align: right;\n",
       "  white-space: pre-wrap;\n",
       "}\n",
       "</style>\n",
       "<small>shape: (1_266_088, 31)</small><table border=\"1\" class=\"dataframe\"><thead><tr><th>equipment_name</th><th>record_date</th><th>record_dt</th><th>payload_net</th><th>swingloads</th><th>carry_back</th><th>total_cycle_time</th><th>empty_run_time</th><th>empty_stop_time</th><th>loading_time</th><th>loaded_haul_time</th><th>loaded_stop_time</th><th>dumping_time</th><th>loaded_start_time</th><th>dumping_start_time</th><th>loaded_haul_distance</th><th>empty_haul_distance</th><th>loaded_max_speed</th><th>loaded_max_speed_time</th><th>empty_max_speed</th><th>empty_max_speed_time</th><th>peak_positive_torque_time</th><th>peak_positive_torque</th><th>peak_negative_torque_time</th><th>peak_negative_torque</th><th>peak_sprung_load</th><th>peak_sprung_load_time</th><th>left_front_tire_tkph</th><th>right_front_tire_tkph</th><th>rear_tire_tkph</th><th>gross_payload</th></tr><tr><td>str</td><td>date</td><td>datetime[μs]</td><td>f64</td><td>i64</td><td>f64</td><td>i64</td><td>i64</td><td>i64</td><td>i64</td><td>i64</td><td>i64</td><td>i64</td><td>time</td><td>time</td><td>f64</td><td>f64</td><td>f64</td><td>time</td><td>f64</td><td>time</td><td>time</td><td>f64</td><td>time</td><td>f64</td><td>f64</td><td>time</td><td>f64</td><td>f64</td><td>f64</td><td>f64</td></tr></thead><tbody><tr><td>&quot;TK284&quot;</td><td>2020-11-19</td><td>2020-11-19 05:20:01</td><td>0.0</td><td>1</td><td>69.02</td><td>86396</td><td>40507</td><td>41943</td><td>3946</td><td>0</td><td>0</td><td>0</td><td>18:12:15</td><td>18:12:15</td><td>0.0</td><td>-30.77</td><td>0.0</td><td>00:00:00</td><td>31.95</td><td>18:12:15</td><td>18:12:15</td><td>175.48</td><td>18:12:15</td><td>217.03</td><td>322.71</td><td>18:12:15</td><td>812.72</td><td>869.05</td><td>466.71</td><td>69.02</td></tr><tr><td>&quot;TK284&quot;</td><td>2020-11-23</td><td>2020-11-23 18:18:23</td><td>87.32</td><td>1</td><td>-8.38</td><td>44282</td><td>19755</td><td>21435</td><td>101</td><td>2776</td><td>215</td><td>0</td><td>18:12:15</td><td>18:12:15</td><td>13.58</td><td>97.32</td><td>30.34</td><td>18:12:15</td><td>31.56</td><td>18:12:15</td><td>00:44:56</td><td>154.14</td><td>18:12:15</td><td>170.56</td><td>302.32</td><td>16:33:25</td><td>436.13</td><td>468.32</td><td>252.67</td><td>78.94</td></tr><tr><td>&quot;TK284&quot;</td><td>2021-03-16</td><td>2021-03-16 02:02:49</td><td>0.0</td><td>1</td><td>10.58</td><td>14440</td><td>9604</td><td>4225</td><td>161</td><td>64</td><td>386</td><td>0</td><td>04:54:27</td><td>05:04:38</td><td>0.13</td><td>49.54</td><td>11.72</td><td>04:57:41</td><td>31.66</td><td>04:22:14</td><td>00:33:05</td><td>140.25</td><td>04:08:57</td><td>177.72</td><td>245.31</td><td>01:05:31</td><td>537.52</td><td>572.93</td><td>292.9</td><td>10.58</td></tr><tr><td>&quot;TK284&quot;</td><td>2021-04-21</td><td>2021-04-21 15:46:18</td><td>69.35</td><td>1</td><td>0.0</td><td>7720</td><td>26</td><td>2864</td><td>3946</td><td>524</td><td>360</td><td>0</td><td>03:00:48</td><td>04:21:10</td><td>1.26</td><td>0.02</td><td>21.44</td><td>04:07:54</td><td>7.29</td><td>03:00:25</td><td>04:06:32</td><td>28.64</td><td>04:08:17</td><td>214.1</td><td>283.13</td><td>04:12:07</td><td>24.14</td><td>28.97</td><td>16.09</td><td>69.35</td></tr><tr><td>&quot;TK284&quot;</td><td>2021-05-18</td><td>2021-05-18 18:06:45</td><td>100.55</td><td>1</td><td>-10.36</td><td>132039</td><td>65535</td><td>65535</td><td>27</td><td>873</td><td>69</td><td>0</td><td>18:12:15</td><td>18:12:15</td><td>3.77</td><td>107.63</td><td>29.98</td><td>18:12:15</td><td>79.71</td><td>00:03:51</td><td>18:12:15</td><td>200.58</td><td>18:12:15</td><td>352.33</td><td>400.55</td><td>18:12:15</td><td>233.35</td><td>418.43</td><td>304.17</td><td>90.19</td></tr><tr><td>&hellip;</td><td>&hellip;</td><td>&hellip;</td><td>&hellip;</td><td>&hellip;</td><td>&hellip;</td><td>&hellip;</td><td>&hellip;</td><td>&hellip;</td><td>&hellip;</td><td>&hellip;</td><td>&hellip;</td><td>&hellip;</td><td>&hellip;</td><td>&hellip;</td><td>&hellip;</td><td>&hellip;</td><td>&hellip;</td><td>&hellip;</td><td>&hellip;</td><td>&hellip;</td><td>&hellip;</td><td>&hellip;</td><td>&hellip;</td><td>&hellip;</td><td>&hellip;</td><td>&hellip;</td><td>&hellip;</td><td>&hellip;</td><td>&hellip;</td><td>&hellip;</td></tr><tr><td>&quot;TK883&quot;</td><td>2023-10-09</td><td>2023-10-09 15:22:05</td><td>370.56</td><td>3</td><td>3.2</td><td>3497</td><td>1066</td><td>355</td><td>45</td><td>1914</td><td>49</td><td>68</td><td>00:23:37</td><td>00:57:03</td><td>10.27</td><td>9.95</td><td>50.81</td><td>00:27:42</td><td>58.69</td><td>00:15:21</td><td>00:35:41</td><td>392.15</td><td>00:26:40</td><td>375.26</td><td>788.53</td><td>00:26:05</td><td>3073.85</td><td>2718.18</td><td>1656.01</td><td>373.76</td></tr><tr><td>&quot;TK883&quot;</td><td>2023-10-09</td><td>2023-10-09 16:20:17</td><td>353.8</td><td>3</td><td>3.31</td><td>3312</td><td>1063</td><td>305</td><td>70</td><td>1799</td><td>20</td><td>55</td><td>00:22:41</td><td>00:54:07</td><td>10.12</td><td>10.14</td><td>52.0</td><td>00:26:09</td><td>64.6</td><td>00:08:00</td><td>00:45:10</td><td>331.75</td><td>00:24:07</td><td>465.93</td><td>775.08</td><td>00:24:49</td><td>2813.13</td><td>3151.1</td><td>1730.04</td><td>357.11</td></tr><tr><td>&quot;TK883&quot;</td><td>2023-10-09</td><td>2023-10-09 17:15:24</td><td>350.83</td><td>3</td><td>3.2</td><td>3517</td><td>925</td><td>326</td><td>78</td><td>2103</td><td>36</td><td>49</td><td>00:20:45</td><td>00:57:39</td><td>10.59</td><td>9.9</td><td>50.9</td><td>00:24:27</td><td>64.7</td><td>00:06:56</td><td>00:24:26</td><td>268.32</td><td>00:22:22</td><td>322.06</td><td>776.63</td><td>00:23:33</td><td>2665.07</td><td>3012.69</td><td>1670.5</td><td>354.02</td></tr><tr><td>&quot;TK883&quot;</td><td>2023-10-09</td><td>2023-10-09 18:13:57</td><td>360.64</td><td>4</td><td>3.2</td><td>4213</td><td>955</td><td>210</td><td>103</td><td>2073</td><td>817</td><td>55</td><td>00:19:18</td><td>01:24:01</td><td>11.99</td><td>9.98</td><td>47.7</td><td>01:21:37</td><td>64.29</td><td>00:13:19</td><td>01:13:30</td><td>299.46</td><td>01:16:02</td><td>390.71</td><td>762.18</td><td>01:05:31</td><td>2122.72</td><td>2248.25</td><td>1271.38</td><td>363.84</td></tr><tr><td>&quot;TK883&quot;</td><td>2023-10-09</td><td>2023-10-09 19:38:57</td><td>271.0</td><td>5</td><td>3.31</td><td>1944</td><td>613</td><td>452</td><td>334</td><td>376</td><td>96</td><td>73</td><td>00:17:43</td><td>00:31:08</td><td>2.0</td><td>4.8</td><td>39.4</td><td>00:27:38</td><td>53.2</td><td>00:01:50</td><td>00:24:18</td><td>227.85</td><td>00:29:03</td><td>176.96</td><td>597.91</td><td>00:29:00</td><td>1514.39</td><td>1319.66</td><td>806.28</td><td>274.31</td></tr></tbody></table></div>"
      ]
     },
     "execution_count": 2,
     "metadata": {},
     "output_type": "execute_result"
    }
   ],
   "execution_count": 2
  },
  {
   "metadata": {},
   "cell_type": "code",
   "outputs": [],
   "execution_count": null,
   "source": "",
   "id": "d7b22fda24cd1619"
  }
 ],
 "metadata": {
  "kernelspec": {
   "display_name": "Python 3",
   "language": "python",
   "name": "python3"
  },
  "language_info": {
   "codemirror_mode": {
    "name": "ipython",
    "version": 2
   },
   "file_extension": ".py",
   "mimetype": "text/x-python",
   "name": "python",
   "nbconvert_exporter": "python",
   "pygments_lexer": "ipython2",
   "version": "2.7.6"
  }
 },
 "nbformat": 4,
 "nbformat_minor": 5
}
