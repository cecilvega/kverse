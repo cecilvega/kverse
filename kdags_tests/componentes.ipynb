{
 "cells": [
  {
   "metadata": {},
   "cell_type": "code",
   "outputs": [],
   "execution_count": null,
   "source": "",
   "id": "1e8abbacb1e4d22b"
  },
  {
   "metadata": {},
   "cell_type": "code",
   "outputs": [],
   "execution_count": null,
   "source": [
    "%load_ext autoreload\n",
    "%autoreload 2\n",
    "%reload_ext autoreload\n",
    "\n",
    "import sys\n",
    "from pathlib import Path\n",
    "\n",
    "import pandas as pd\n",
    "import polars as pl\n",
    "import dagster as dg\n",
    "from kdags.resources.dplyr import *\n",
    "from kdags.resources.tidyr import *\n",
    "from io import BytesIO\n",
    "import pdfplumber\n",
    "\n",
    "from datetime import datetime\n",
    "import re\n",
    "import os\n",
    "from kdags.definitions import *\n",
    "from kdags.readr import *\n",
    "\n",
    "context = dg.build_asset_context()"
   ],
   "id": "c9cfae4efb83c45a"
  },
  {
   "metadata": {},
   "cell_type": "code",
   "outputs": [],
   "execution_count": null,
   "source": "# df = Readr.P",
   "id": "649d6a1cceba9ac6"
  },
  {
   "metadata": {},
   "cell_type": "code",
   "outputs": [],
   "execution_count": null,
   "source": "",
   "id": "194e4bbb0594b8eb"
  }
 ],
 "metadata": {},
 "nbformat": 5,
 "nbformat_minor": 9
}
