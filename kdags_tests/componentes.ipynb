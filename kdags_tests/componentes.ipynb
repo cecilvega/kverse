{
 "cells": [
  {
   "metadata": {
    "ExecuteTime": {
     "end_time": "2025-03-21T12:30:32.017129Z",
     "start_time": "2025-03-21T12:30:29.635906Z"
    }
   },
   "cell_type": "code",
   "source": [
    "%load_ext autoreload\n",
    "%autoreload 2\n",
    "%reload_ext autoreload\n",
    "\n",
    "import sys\n",
    "from pathlib import Path\n",
    "\n",
    "import pandas as pd\n",
    "import polars as pl\n",
    "import dagster as dg\n",
    "from kdags.resources.dplyr import *\n",
    "from kdags.resources.tidyr import *\n",
    "from io import BytesIO\n",
    "import pdfplumber\n",
    "\n",
    "from datetime import datetime\n",
    "import re\n",
    "import os\n",
    "from kdags.definitions import *\n",
    "from kdags.readr import *\n",
    "\n",
    "context = dg.build_asset_context()"
   ],
   "id": "d0b00cab3ca12fde",
   "outputs": [],
   "execution_count": 1
  },
  {
   "metadata": {
    "ExecuteTime": {
     "end_time": "2025-03-21T12:28:42.937325Z",
     "start_time": "2025-03-21T12:28:42.487233Z"
    }
   },
   "cell_type": "code",
   "source": "df = Readr.Maintenance.read_icc(context)",
   "id": "e9da956cdc727408",
   "outputs": [
    {
     "ename": "KeyError",
     "evalue": "'AZURE_STORAGE_CONNECTION_STRING'",
     "output_type": "error",
     "traceback": [
      "\u001B[31m---------------------------------------------------------------------------\u001B[39m",
      "\u001B[31mKeyError\u001B[39m                                  Traceback (most recent call last)",
      "\u001B[36mCell\u001B[39m\u001B[36m \u001B[39m\u001B[32mIn[3]\u001B[39m\u001B[32m, line 1\u001B[39m\n\u001B[32m----> \u001B[39m\u001B[32m1\u001B[39m df = \u001B[43mReadr\u001B[49m\u001B[43m.\u001B[49m\u001B[43mMaintenance\u001B[49m\u001B[43m.\u001B[49m\u001B[43mread_icc\u001B[49m\u001B[43m(\u001B[49m\u001B[43mcontext\u001B[49m\u001B[43m)\u001B[49m\n",
      "\u001B[36mFile \u001B[39m\u001B[32m~\\PycharmProjects\\kverse\\.venv\\Lib\\site-packages\\dagster\\_core\\definitions\\assets.py:400\u001B[39m, in \u001B[36mAssetsDefinition.__call__\u001B[39m\u001B[34m(self, *args, **kwargs)\u001B[39m\n\u001B[32m    397\u001B[39m     \u001B[38;5;28;01mreturn\u001B[39;00m \u001B[38;5;28mself\u001B[39m.node_def(*args, **kwargs)\n\u001B[32m    399\u001B[39m \u001B[38;5;66;03m# invoke against self to allow assets def information to be used\u001B[39;00m\n\u001B[32m--> \u001B[39m\u001B[32m400\u001B[39m \u001B[38;5;28;01mreturn\u001B[39;00m \u001B[43mdirect_invocation_result\u001B[49m\u001B[43m(\u001B[49m\u001B[38;5;28;43mself\u001B[39;49m\u001B[43m,\u001B[49m\u001B[43m \u001B[49m\u001B[43m*\u001B[49m\u001B[43margs\u001B[49m\u001B[43m,\u001B[49m\u001B[43m \u001B[49m\u001B[43m*\u001B[49m\u001B[43m*\u001B[49m\u001B[43mkwargs\u001B[49m\u001B[43m)\u001B[49m\n",
      "\u001B[36mFile \u001B[39m\u001B[32m~\\PycharmProjects\\kverse\\.venv\\Lib\\site-packages\\dagster\\_core\\definitions\\op_invocation.py:216\u001B[39m, in \u001B[36mdirect_invocation_result\u001B[39m\u001B[34m(def_or_invocation, *args, **kwargs)\u001B[39m\n\u001B[32m    209\u001B[39m \u001B[38;5;28;01mtry\u001B[39;00m:\n\u001B[32m    210\u001B[39m     \u001B[38;5;66;03m# if the compute function fails, we want to ensure we unbind the context. This\u001B[39;00m\n\u001B[32m    211\u001B[39m     \u001B[38;5;66;03m# try-except handles \"vanilla\" asset and op invocation (generators and async handled in\u001B[39;00m\n\u001B[32m    212\u001B[39m     \u001B[38;5;66;03m# _type_check_output_wrapper)\u001B[39;00m\n\u001B[32m    214\u001B[39m     input_dict = _resolve_inputs(op_def, input_args, input_kwargs, bound_context)  \u001B[38;5;66;03m# type: ignore # (pyright bug)\u001B[39;00m\n\u001B[32m--> \u001B[39m\u001B[32m216\u001B[39m     result = \u001B[43minvoke_compute_fn\u001B[49m\u001B[43m(\u001B[49m\n\u001B[32m    217\u001B[39m \u001B[43m        \u001B[49m\u001B[43mfn\u001B[49m\u001B[43m=\u001B[49m\u001B[43mcompute_fn\u001B[49m\u001B[43m.\u001B[49m\u001B[43mdecorated_fn\u001B[49m\u001B[43m,\u001B[49m\n\u001B[32m    218\u001B[39m \u001B[43m        \u001B[49m\u001B[43mcontext\u001B[49m\u001B[43m=\u001B[49m\u001B[43mbound_context\u001B[49m\u001B[43m,\u001B[49m\u001B[43m  \u001B[49m\u001B[38;5;66;43;03m# type: ignore # (pyright bug)\u001B[39;49;00m\n\u001B[32m    219\u001B[39m \u001B[43m        \u001B[49m\u001B[43mkwargs\u001B[49m\u001B[43m=\u001B[49m\u001B[43minput_dict\u001B[49m\u001B[43m,\u001B[49m\n\u001B[32m    220\u001B[39m \u001B[43m        \u001B[49m\u001B[43mcontext_arg_provided\u001B[49m\u001B[43m=\u001B[49m\u001B[43mcompute_fn\u001B[49m\u001B[43m.\u001B[49m\u001B[43mhas_context_arg\u001B[49m\u001B[43m(\u001B[49m\u001B[43m)\u001B[49m\u001B[43m,\u001B[49m\n\u001B[32m    221\u001B[39m \u001B[43m        \u001B[49m\u001B[43mconfig_arg_cls\u001B[49m\u001B[43m=\u001B[49m\u001B[43m(\u001B[49m\n\u001B[32m    222\u001B[39m \u001B[43m            \u001B[49m\u001B[43mcompute_fn\u001B[49m\u001B[43m.\u001B[49m\u001B[43mget_config_arg\u001B[49m\u001B[43m(\u001B[49m\u001B[43m)\u001B[49m\u001B[43m.\u001B[49m\u001B[43mannotation\u001B[49m\u001B[43m \u001B[49m\u001B[38;5;28;43;01mif\u001B[39;49;00m\u001B[43m \u001B[49m\u001B[43mcompute_fn\u001B[49m\u001B[43m.\u001B[49m\u001B[43mhas_config_arg\u001B[49m\u001B[43m(\u001B[49m\u001B[43m)\u001B[49m\u001B[43m \u001B[49m\u001B[38;5;28;43;01melse\u001B[39;49;00m\u001B[43m \u001B[49m\u001B[38;5;28;43;01mNone\u001B[39;49;00m\n\u001B[32m    223\u001B[39m \u001B[43m        \u001B[49m\u001B[43m)\u001B[49m\u001B[43m,\u001B[49m\n\u001B[32m    224\u001B[39m \u001B[43m        \u001B[49m\u001B[43mresource_args\u001B[49m\u001B[43m=\u001B[49m\u001B[43mresource_arg_mapping\u001B[49m\u001B[43m,\u001B[49m\n\u001B[32m    225\u001B[39m \u001B[43m    \u001B[49m\u001B[43m)\u001B[49m\n\u001B[32m    226\u001B[39m     \u001B[38;5;28;01mreturn\u001B[39;00m _type_check_output_wrapper(op_def, result, bound_context)  \u001B[38;5;66;03m# type: ignore # (pyright bug)\u001B[39;00m\n\u001B[32m    227\u001B[39m \u001B[38;5;28;01mexcept\u001B[39;00m \u001B[38;5;167;01mException\u001B[39;00m:\n",
      "\u001B[36mFile \u001B[39m\u001B[32m~\\PycharmProjects\\kverse\\.venv\\Lib\\site-packages\\dagster\\_core\\execution\\plan\\compute_generator.py:115\u001B[39m, in \u001B[36minvoke_compute_fn\u001B[39m\u001B[34m(fn, context, kwargs, context_arg_provided, config_arg_cls, resource_args)\u001B[39m\n\u001B[32m    112\u001B[39m     \u001B[38;5;28;01mfor\u001B[39;00m resource_name, arg_name \u001B[38;5;129;01min\u001B[39;00m resource_args.items():\n\u001B[32m    113\u001B[39m         args_to_pass[arg_name] = context.resources.original_resource_dict[resource_name]\n\u001B[32m--> \u001B[39m\u001B[32m115\u001B[39m \u001B[38;5;28;01mreturn\u001B[39;00m fn(context, **args_to_pass) \u001B[38;5;28;01mif\u001B[39;00m context_arg_provided \u001B[38;5;28;01melse\u001B[39;00m \u001B[43mfn\u001B[49m\u001B[43m(\u001B[49m\u001B[43m*\u001B[49m\u001B[43m*\u001B[49m\u001B[43margs_to_pass\u001B[49m\u001B[43m)\u001B[49m\n",
      "\u001B[36mFile \u001B[39m\u001B[32m~\\PycharmProjects\\kverse\\kdags\\assets\\maintenance\\component_changeouts\\pipeline.py:165\u001B[39m, in \u001B[36mread_icc\u001B[39m\u001B[34m()\u001B[39m\n\u001B[32m    163\u001B[39m \u001B[38;5;129m@dg\u001B[39m.asset\n\u001B[32m    164\u001B[39m \u001B[38;5;28;01mdef\u001B[39;00m\u001B[38;5;250m \u001B[39m\u001B[34mread_icc\u001B[39m():\n\u001B[32m--> \u001B[39m\u001B[32m165\u001B[39m     dl = \u001B[43mDataLake\u001B[49m\u001B[43m(\u001B[49m\u001B[43m)\u001B[49m\n\u001B[32m    166\u001B[39m     uri = \u001B[33m\"\u001B[39m\u001B[33mabfs://bhp-analytics-data/MAINTENANCE/ICC/icc.parquet\u001B[39m\u001B[33m\"\u001B[39m\n\u001B[32m    167\u001B[39m     \u001B[38;5;28;01mif\u001B[39;00m dl.uri_exists(uri):\n",
      "\u001B[36mFile \u001B[39m\u001B[32m~\\PycharmProjects\\kverse\\kdags\\resources\\tidyr\\datalake.py:13\u001B[39m, in \u001B[36mDataLake.__init__\u001B[39m\u001B[34m(self)\u001B[39m\n\u001B[32m     12\u001B[39m \u001B[38;5;28;01mdef\u001B[39;00m\u001B[38;5;250m \u001B[39m\u001B[34m__init__\u001B[39m(\u001B[38;5;28mself\u001B[39m):\n\u001B[32m---> \u001B[39m\u001B[32m13\u001B[39m     conn_str = \u001B[43mos\u001B[49m\u001B[43m.\u001B[49m\u001B[43menviron\u001B[49m\u001B[43m[\u001B[49m\u001B[33;43m\"\u001B[39;49m\u001B[33;43mAZURE_STORAGE_CONNECTION_STRING\u001B[39;49m\u001B[33;43m\"\u001B[39;49m\u001B[43m]\u001B[49m\n\u001B[32m     15\u001B[39m     \u001B[38;5;28mself\u001B[39m.client = DataLakeServiceClient.from_connection_string(conn_str)\n",
      "\u001B[36mFile \u001B[39m\u001B[32m<frozen os>:714\u001B[39m, in \u001B[36m__getitem__\u001B[39m\u001B[34m(self, key)\u001B[39m\n",
      "\u001B[31mKeyError\u001B[39m: 'AZURE_STORAGE_CONNECTION_STRING'"
     ]
    }
   ],
   "execution_count": 3
  },
  {
   "metadata": {},
   "cell_type": "code",
   "outputs": [],
   "execution_count": null,
   "source": "",
   "id": "74be4a460f33474c"
  },
  {
   "metadata": {},
   "cell_type": "code",
   "outputs": [],
   "execution_count": null,
   "source": "",
   "id": "194e4bbb0594b8eb"
  }
 ],
 "metadata": {
  "kernelspec": {
   "name": "python3",
   "language": "python",
   "display_name": "Python 3 (ipykernel)"
  }
 },
 "nbformat": 5,
 "nbformat_minor": 9
}
