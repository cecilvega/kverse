{
 "cells": [
  {
   "metadata": {
    "collapsed": true,
    "ExecuteTime": {
     "end_time": "2025-03-31T16:41:49.453451Z",
     "start_time": "2025-03-31T16:41:49.134012Z"
    }
   },
   "cell_type": "code",
   "source": [
    "### CORRERLO INICIALENTE ###\n",
    "%load_ext autoreload\n",
    "%autoreload 2\n",
    "%reload_ext autoreload\n",
    "\n",
    "import sys\n",
    "from pathlib import Path\n",
    "\n",
    "import pandas as pd\n",
    "import polars as pl\n",
    "import dagster as dg\n",
    "from kdags.resources.dplyr import *\n",
    "from kdags.resources.tidyr import *\n",
    "from io import BytesIO\n",
    "import pdfplumber\n",
    "\n",
    "from datetime import datetime\n",
    "import re\n",
    "import os\n",
    "from kdags.definitions import *\n",
    "from kdags.readr import *\n",
    "from datetime import timedelta\n",
    "\n",
    "context = dg.build_asset_context()\n",
    "### IGNORAR ###"
   ],
   "id": "b3c477257d3da967",
   "outputs": [
    {
     "name": "stdout",
     "output_type": "stream",
     "text": [
      "The autoreload extension is already loaded. To reload it, use:\n",
      "  %reload_ext autoreload\n"
     ]
    }
   ],
   "execution_count": 35
  },
  {
   "metadata": {
    "ExecuteTime": {
     "end_time": "2025-03-31T16:43:20.252033Z",
     "start_time": "2025-03-31T16:43:20.005225Z"
    }
   },
   "cell_type": "code",
   "source": [
    "# Forma básica de leer un archivo Excel\n",
    "df = pl.read_excel(\n",
    "    Path(os.environ[\"ONEDRIVE_LOCAL_PATH\"]) / \"INSTRUCTIVOS/listado_instructivos.xlsx\",\n",
    "    infer_schema_length=0,\n",
    ")\n",
    "df = df.with_columns(\n",
    "    pl.col(\"PROXIMA_REVISION_DATE\").str.strptime(pl.Date, \"%d-%m-%Y\"),\n",
    ")\n",
    "correspondencia_instructivos = {\n",
    "    \"IG-0001-KCH (vencido)\": \"Instructivo de Bloqueo y Desenergización Camiones EléctricosIG-0001-KCH-REF-E-0001-KCH\",\n",
    "    \"IG-0005-KCH (al día)\": \"Trabajo en altura físicaIG-0005-KCH-REF-E-0002-KCH\",\n",
    "    \"IG-0014-KCH (vencido)\": \"Ingreso y salida de equipos de taller losa de lavado o similaresIG-0014-KCH-REF-E-0008-KCH\",\n",
    "    \"KOP-I-1062-Mel (necesita verificación para actualización)\": \"Mantención preventiva y general de equipos CAEX 830E/930E/960EKOP-I-1062-MEL\",\n",
    "    \"Cambio módulo de potencia (al día)\": \"Cambio de conjunto modulo de potenciaIT1-073-0315-FC-A000\",\n",
    "    \"Cambio de acumulador de freno (vencido)\": \"Cambio de acumulador de frenoIT1-045-0814-FC-2G40\",\n",
    "    \"Cambio de parrillas de forma individual (vencido)\": \"Cambio de parrillas de forma individualIT1-176-0321-HA-0960\",\n",
    "    \"Cambio de rótulas de cilindro y/o barra de dirección (al día)\": \"Cambio rótula de cilindro y/o barra de direcciónIT1-118-0917-HA-4A00\",\n",
    "    \"Cambio de freno de estacionamiento (al día)\": \"Cambio de freno de estacionamientoIT4-038-1214-HA-2F00\",\n",
    "    \"Cambio ducto escape y silenciador (vencido)\": \"Cambio de ducto de escape y silenciadorIT1-177-0321-VO-0130\",\n",
    "    \"Cambio de blower de parrilla (al día)\": \"Cambio de Blower de PariillasIT1-107-0916-PI-0967\",\n",
    "    \"Cambio CMSD (al día)\": \"Cambio conjunto masa suspensión delanteraIT1-067-0115-FC-5A30\",\n",
    "    \"Cambio de acumulador de dirección (vencido)\": \"Cambio acumulador de direcciónIT1-053-1014-FC-4AA0\",\n",
    "    \"Cambio cilindro dirección (vencido)\": \"Cambio de cilindro de direcciónIT1-008-0214-FC-H1X0\",\n",
    "    \"KOP-I-003–MEL\": \"Ingreso y salida de camiones DE EXTRACCIÓN 930E / 960E a naves de talleres 797 y 793 Minera EscondidaKOP-I-003-MEL\",\n",
    "}\n",
    "correspondencia_invertida = {\n",
    "    valor: clave for clave, valor in correspondencia_instructivos.items()\n",
    "}\n",
    "\n",
    "df = df.with_columns(\n",
    "    (df[\"ACTIVIDAD\"] + df[\"CODIGO_INSTRUCTIVO\"])\n",
    "    .replace(correspondencia_invertida, default=None)\n",
    "    .alias(\"OSVALDO\")\n",
    ")\n",
    "df = df.with_columns(\n",
    "    pl.when(pl.col(\"PROXIMA_REVISION_DATE\") <= pl.lit(datetime.now()))\n",
    "    .then(pl.lit(\"vencido\"))\n",
    "    .when(\n",
    "        pl.col(\"PROXIMA_REVISION_DATE\") <= pl.lit(datetime.now() + timedelta(days=30))\n",
    "    )\n",
    "    .then(pl.lit(\"por_vencer\"))\n",
    "    .otherwise(pl.lit(\"actualizado\"))\n",
    "    .alias(\"estado_revision\")\n",
    ")\n",
    "df.write_excel(\n",
    "    Path(os.environ[\"ONEDRIVE_LOCAL_PATH\"]) / \"INSTRUCTIVOS/LISTADO_INSTRUCTIVOS.xlsx\",\n",
    ")"
   ],
   "id": "1feefb3854915d61",
   "outputs": [
    {
     "data": {
      "text/plain": [
       "<xlsxwriter.workbook.Workbook at 0x1b93ee50380>"
      ]
     },
     "execution_count": 37,
     "metadata": {},
     "output_type": "execute_result"
    }
   ],
   "execution_count": 37
  },
  {
   "metadata": {
    "ExecuteTime": {
     "end_time": "2025-03-31T16:43:32.979239Z",
     "start_time": "2025-03-31T16:43:32.809305Z"
    }
   },
   "cell_type": "code",
   "source": "Path(os.environ[\"ONEDRIVE_LOCAL_PATH\"]) / \"INSTRUCTIVOS/LISTADO_INSTRUCTIVOS.xlsx\"",
   "id": "1732becc09ceee72",
   "outputs": [
    {
     "data": {
      "text/plain": [
       "WindowsPath('C:/Users/vales/OneDrive - Komatsu Ltd/INSTRUCTIVOS/LISTADO_INSTRUCTIVOS.xlsx')"
      ]
     },
     "execution_count": 38,
     "metadata": {},
     "output_type": "execute_result"
    }
   ],
   "execution_count": 38
  },
  {
   "metadata": {
    "ExecuteTime": {
     "end_time": "2025-03-31T16:22:21.408996Z",
     "start_time": "2025-03-31T16:22:21.318871Z"
    }
   },
   "cell_type": "code",
   "source": "(df[\"ACTIVIDAD\"] + df[\"CODIGO_INSTRUCTIVO\"]).to_list()",
   "id": "2a589ec3077c5514",
   "outputs": [
    {
     "data": {
      "text/plain": [
       "['Instructivo de Bloqueo y Desenergización Camiones EléctricosIG-0001-KCH-REF-E-0001-KCH',\n",
       " 'Instructivo de subida y bajada de equiposIG-0006-KCH-REF-E-0002-KCH',\n",
       " 'Trabajo en altura físicaIG-0005-KCH-REF-E-0002-KCH',\n",
       " 'Trabajo con carga suspendidaIG-0007-KCH-REF-E-0003-KCH',\n",
       " 'Ingreso y salida de equipos de taller losa de lavado o similaresIG-0014-KCH-REF-E-0008-KCH',\n",
       " 'Instructivo uso y cuidado de equipos de protección personalIG-0016-KCH-REF-E-0010-KCH',\n",
       " 'Ejecución MP equipos KomatsuIG-0020-KCH-REF-E-009-KCH',\n",
       " 'Cambio de sellos de puertas de cabina de operadorIT4-067-0615-HA-5520',\n",
       " 'Cambio asiento operadorIT4-073-1117-PL-5700',\n",
       " 'Cambio mangueras hidráulicasIT4-072-1117-PL-6A02',\n",
       " 'Carga de nitrógeno y llenado de aceite suspensión delanteraIT1-005-0114-FC-CN2',\n",
       " 'Cambio de cilindro de direcciónIT1-008-0214-FC-H1X0',\n",
       " 'Cambio de conjunto motor de tracciónIT1-007-0214-FC-0970',\n",
       " 'Cambio suspensión traseraIT1-013-0414-FC-5A4',\n",
       " 'Carga de nitrógeno y llenado de aceite suspensión traserasIT1-014-0514-FC-5A40',\n",
       " 'Cambio de bomba de dirección y frenoIT1-023-0514-FC-J140',\n",
       " 'Cambio de cardán alternador principalIT1-018-0414-FC-2000',\n",
       " 'Cambio bomba de levanteIT1-031-0614-FC-K@A5',\n",
       " 'Cambio de eje pivoteIT1-046-0914-FC-5030',\n",
       " 'Cambio de acumulador de frenoIT1-045-0814-FC-2G40',\n",
       " 'Inspección y puesta en servicio de motor diéselIT1-050-0914-PL-0940',\n",
       " 'Cambio acumulador de direcciónIT1-053-1014-FC-4AA0',\n",
       " 'Cambio del múltiple de direcciónIT1-056-1114-FC-4A00',\n",
       " 'Cambio de radiadorIT1-065-1214-FC-0310',\n",
       " 'Cambio de amortiguador trasero de sub-frameIT1-071-0215-FC-A3C0',\n",
       " 'Cambio conjunto masa suspensión delanteraIT1-067-0115-FC-5A30',\n",
       " 'Cambio estanque de combustibleIT1-075-0315-FC-0410',\n",
       " 'Cambio alternador principalIT1-084-0515-FC-0940',\n",
       " 'Cambio de motor de arranqueIT1-086-0515-FC-AB30',\n",
       " 'Lavado de camiones eléctricosIT1-097-0216-PI-E@G2',\n",
       " 'Cambio de tanque de reserva aceite motor diéselIT1-101-0516-PI-A000',\n",
       " 'Cambio de barra de direcciónIT1-105-0716-PI-4A13',\n",
       " 'Cambio barra estabilizadoraIT1-117-0517-HA-K@AD',\n",
       " 'Cambio rótula de cilindro y/o barra de direcciónIT1-118-0917-HA-4A00',\n",
       " 'Chequeo juego pasador centralIT1-116-0417-MGE-4780',\n",
       " 'Cambio de aceite motor de tracciónIT1-123-0917-MGE-0970',\n",
       " 'Cambio de caja ciclónicaIT1-127-1117-HA-AA01',\n",
       " 'Cambio banco de parrillasIT1-103-0816-HA-0960',\n",
       " 'Cambio de módulo de IGBTIT1-131-1117-MGE-092A',\n",
       " 'Cambio barandas CAEXIT1-133-1217-HA-54D8',\n",
       " 'Cambio de vidrio de cabinaIT1-144-0318-MG-5510',\n",
       " 'Retiro e instalación de filtros strainerIT1-149-0618-HA-6020',\n",
       " 'Cambio de luces generalesIT1-151-0618-MGE-DU20',\n",
       " 'Instalación de rótulas a barra estabilizadora nuevaIT1-163-0520-HA-K@AD',\n",
       " 'Cambio alternador principalIT1-162-0320-HA-0940',\n",
       " 'Cambio de ducto de escape y silenciadorIT1-177-0321-VO-0130',\n",
       " 'Instalación del sistema scoreboardIT1-178-0321-VO-7P70',\n",
       " 'Cambio de parrillas de forma individualIT1-176-0321-HA-0960',\n",
       " 'Mantenimiento de caja ciclónicaIT1-192-1121-VO-B@MN',\n",
       " 'Limpieza y lavado de caja ciclónicaIT1-202-1122-VO-AA00',\n",
       " 'Pruebas de potenciaIT1-203-1122-VO-092K',\n",
       " 'Medición de altura de suspensión traseraIT4-005-0514-HA-5A40',\n",
       " 'Inspección de motor de tracciónIT4-007-0514-HA-0970',\n",
       " 'Medición freno estacionamientoIT4-009-0614-HA-2F10',\n",
       " 'Medición desgaste de carbones del alternador principalIT4-010-0614-HA-094T',\n",
       " 'Medición de alturas suspensión delanteraIT4-006-0514-HA-5A30',\n",
       " 'Medición desgaste de carbones blower de parrillasIT4-011-0614-HA-0967',\n",
       " 'Revisión de espárragos de neumáticosIT4-013-0614-HA-3A00',\n",
       " 'Calibración de pedal de aceleración, retardador y freno con panel DIDIT4-015-0714-HA-DS00',\n",
       " 'Medición de carga de nitrógeno de acumuladoresIT4-017-0714-HA-6030',\n",
       " 'Cambio de pasador centralIT4-022-1114-HA-4780',\n",
       " 'Microfiltrado de motor de tracciónIT4-024-0914-HA-0970',\n",
       " 'Cambio de piñón solar de rueda GDY108IT4-027-0914-HA-0983',\n",
       " 'Medición de freno de servicioIT4-035-1114-HA-2E47',\n",
       " 'Cambio de freno de estacionamientoIT4-038-1214-HA-2F00',\n",
       " 'Medición de convergencia tren delanteroIT4-043-0115-HA-4A13',\n",
       " 'Testeo de bomba dirección y freno con doble válvulaIT4-042-1214-HA-J140',\n",
       " 'Purga de freno de servicio húmedoIT4-045-0215-HA-2C00',\n",
       " 'Medición desgaste articulación sistema de direcciónIT4-047-0215-HA-4A00',\n",
       " 'Flushing del sistema hidráulicoIT4-054-0315-HA-B@HJ',\n",
       " 'Cambio de filtros de aireIT4-076-0821-HA-AA10',\n",
       " 'Instalación de plataforma superior y banco de parrillasIT6-010-1022-RS-0960',\n",
       " 'Chequeo de contactores RP CAEXIT1-142-0318-HA-0922',\n",
       " 'Inspección estanque de reservaIT4-003-0514-HA-A000',\n",
       " 'Revisión banco de parrillasIT4-048-0215-HA-0964',\n",
       " 'Revisión sistema engrase automáticoIT4-058-0415-HA-8D00',\n",
       " 'Cambio sellos de gabinete de controlIT4-065-0515-HA-0910',\n",
       " 'Instalación de ductos de admisión escape y silenciadoresIT6-021-0423-RS-K@24',\n",
       " 'Cambio de cilindro de elevaciónIT1-207-0623-VO-H1J0',\n",
       " 'Verificación de hermeticidad de ductos de sistema de admisiónIT1-214-0124-VO-K@23',\n",
       " 'Engrase de rodamientos de alternador principalIT1-217-0224-VO-0940',\n",
       " 'Cambio de conjunto modulo de potenciaIT1-073-0315-FC-A000',\n",
       " 'Asistencia de partida con partidorIT5-007-0524-HA-D000',\n",
       " 'Chequeo de rótula de cilindro y/o barra de direcciónIT1-229-1024-EV-4A00',\n",
       " 'Chequeo de barra estabilizadoraIT1-234-1124-EV-K@AD',\n",
       " 'Chequeo de rótulas en suspensiones traserasIT1-233-1124-EV-5A40',\n",
       " 'Cambio de Blower de PariillasIT1-107-0916-PI-0967',\n",
       " 'Cambio de Cilindro de Levante IT1-110-1116-HA-H1J0',\n",
       " 'Cambio de Estanque hidraulicoIT1-112-1116-HA-6010',\n",
       " 'Ingreso y salida de camiones DE EXTRACCIÓN 930E / 960E a naves de talleres 797 y 793 Minera EscondidaKOP-I-003-MEL',\n",
       " 'Inspección de puntos calientes sistema hidráulico y eléctrico CAEX 930E - 960EKOP-I-1251-MEL',\n",
       " 'Cambio de rotulas dirección en Sistema de dirección CAEX 930E y 960EKOP-I-1149-MEL',\n",
       " 'Mantención preventiva y general de equipos CAEX 830E/930E/960EKOP-I-1062-MEL']"
      ]
     },
     "execution_count": 27,
     "metadata": {},
     "output_type": "execute_result"
    }
   ],
   "execution_count": 27
  },
  {
   "metadata": {
    "ExecuteTime": {
     "end_time": "2025-03-31T16:03:26.855801Z",
     "start_time": "2025-03-31T16:03:26.714305Z"
    }
   },
   "cell_type": "code",
   "source": [
    "import polars as pl\n",
    "\n",
    "# Forma básica de leer un archivo Excel\n",
    "df = pl.read_excel(\n",
    "    Path(os.environ[\"ONEDRIVE_LOCAL_PATH\"]) / \"INSTRUCTIVOS/listado_instructivos.xlsx\",\n",
    "    infer_schema_length=0,\n",
    ")\n",
    "df = df.with_columns(\n",
    "    pl.coalesce(\n",
    "        pl.col(\"PROXIMA_REVISION_DATE\").str.strptime(pl.Date, \"%d-%m-%Y\", strict=False),\n",
    "        pl.col(\"PROXIMA_REVISION_DATE\").str.strptime(pl.Date, \"%d/%m/%Y\", strict=False),\n",
    "    ).alias(\"PROXIMA_REVISION_DATE\")\n",
    ")\n",
    "df = df.with_columns(\n",
    "    pl.when(pl.col(\"PROXIMA_REVISION_DATE\") < pl.lit(datetime.now()))\n",
    "    .then(pl.lit(\"vencido\"))\n",
    "    .when(pl.col(\"PROXIMA_REVISION_DATE\") > pl.lit(datetime.now()))\n",
    "    .then(pl.lit(\"por_vencer\"))\n",
    "    .otherwise(pl.lit(\"actualizado\"))\n",
    "    .alias(\"estado_revision\")\n",
    ").with_columns(\n",
    "    file_url=pl.lit(\n",
    "        \"https://globalkomatsu.sharepoint.com/sites/KCHCLSP00022/Shared%20Documents/01.%20%C3%81REAS%20KCH/1.6%20CONFIABILIDAD/CAEX/SERVICIO_AL_CLIENTE/INSTRUCTIVOS/DOCUMENTOS/\"\n",
    "    )\n",
    "    + pl.col(\"TIPO_INSTRUCTIVO\")\n",
    "    + pl.lit(\"/\")\n",
    "    + pl.col(\"TIPO_DOCUMENTO\")\n",
    "    + pl.lit(\"/\")\n",
    "    + pl.col(\"CODIGO_INSTRUCTIVO\")\n",
    "    + pl.lit(\".pdf\")\n",
    ")\n",
    "\n",
    "df.write_excel(\n",
    "    Path(os.environ[\"ONEDRIVE_LOCAL_PATH\"]) / \"INSTRUCTIVOS/LISTADO_INSTRUCTIVOS.xlsx\",\n",
    ")\n",
    "\n",
    "df"
   ],
   "id": "2184dc42e5bc89c4",
   "outputs": [
    {
     "data": {
      "text/plain": [
       "shape: (93, 11)\n",
       "┌───────────┬───────────┬───────────┬───────────┬───┬───────────┬───────────┬───────────┬──────────┐\n",
       "│ ACTIVIDAD ┆ TIPO_INST ┆ TIPO_DOCU ┆ CODIGO_IN ┆ … ┆ PROXIMA_R ┆ Comentari ┆ estado_re ┆ file_url │\n",
       "│ ---       ┆ RUCTIVO   ┆ MENTO     ┆ STRUCTIVO ┆   ┆ EVISION_D ┆ o         ┆ vision    ┆ ---      │\n",
       "│ str       ┆ ---       ┆ ---       ┆ ---       ┆   ┆ ATE       ┆ ---       ┆ ---       ┆ str      │\n",
       "│           ┆ str       ┆ str       ┆ str       ┆   ┆ ---       ┆ str       ┆ str       ┆          │\n",
       "│           ┆           ┆           ┆           ┆   ┆ date      ┆           ┆           ┆          │\n",
       "╞═══════════╪═══════════╪═══════════╪═══════════╪═══╪═══════════╪═══════════╪═══════════╪══════════╡\n",
       "│ Instructi ┆ MANTENIMI ┆ INSTRUCTI ┆ IG-0001-K ┆ … ┆ 2026-08-2 ┆ null      ┆ por_vence ┆ https:// │\n",
       "│ vo de     ┆ ENTO      ┆ VO_TECNIC ┆ CH-REF-E- ┆   ┆ 6         ┆           ┆ r         ┆ globalko │\n",
       "│ Bloqueo y ┆           ┆ O         ┆ 0001-KCH  ┆   ┆           ┆           ┆           ┆ matsu.sh │\n",
       "│ Desen…    ┆           ┆           ┆           ┆   ┆           ┆           ┆           ┆ arepoi…  │\n",
       "│ Instructi ┆ MANTENIMI ┆ INSTRUCTI ┆ IG-0006-K ┆ … ┆ 2025-11-1 ┆ null      ┆ por_vence ┆ https:// │\n",
       "│ vo de     ┆ ENTO      ┆ VO_TECNIC ┆ CH-REF-E- ┆   ┆ 5         ┆           ┆ r         ┆ globalko │\n",
       "│ subida y  ┆           ┆ O         ┆ 0002-KCH  ┆   ┆           ┆           ┆           ┆ matsu.sh │\n",
       "│ bajada…   ┆           ┆           ┆           ┆   ┆           ┆           ┆           ┆ arepoi…  │\n",
       "│ Trabajo   ┆ MANTENIMI ┆ INSTRUCTI ┆ IG-0005-K ┆ … ┆ null      ┆ null      ┆ actualiza ┆ https:// │\n",
       "│ en altura ┆ ENTO      ┆ VO_TECNIC ┆ CH-REF-E- ┆   ┆           ┆           ┆ do        ┆ globalko │\n",
       "│ física    ┆           ┆ O         ┆ 0002-KCH  ┆   ┆           ┆           ┆           ┆ matsu.sh │\n",
       "│           ┆           ┆           ┆           ┆   ┆           ┆           ┆           ┆ arepoi…  │\n",
       "│ Trabajo   ┆ MANTENIMI ┆ INSTRUCTI ┆ IG-0007-K ┆ … ┆ 2025-11-1 ┆ null      ┆ por_vence ┆ https:// │\n",
       "│ con carga ┆ ENTO      ┆ VO_TECNIC ┆ CH-REF-E- ┆   ┆ 4         ┆           ┆ r         ┆ globalko │\n",
       "│ suspendid ┆           ┆ O         ┆ 0003-KCH  ┆   ┆           ┆           ┆           ┆ matsu.sh │\n",
       "│ a         ┆           ┆           ┆           ┆   ┆           ┆           ┆           ┆ arepoi…  │\n",
       "│ Ingreso y ┆ MANTENIMI ┆ INSTRUCTI ┆ IG-0014-K ┆ … ┆ null      ┆ Error en  ┆ actualiza ┆ https:// │\n",
       "│ salida de ┆ ENTO      ┆ VO_TECNIC ┆ CH-REF-E- ┆   ┆           ┆ fecha de  ┆ do        ┆ globalko │\n",
       "│ equipos   ┆           ┆ O         ┆ 0008-KCH  ┆   ┆           ┆ proxima   ┆           ┆ matsu.sh │\n",
       "│ de…       ┆           ┆           ┆           ┆   ┆           ┆ revi…     ┆           ┆ arepoi…  │\n",
       "│ …         ┆ …         ┆ …         ┆ …         ┆ … ┆ …         ┆ …         ┆ …         ┆ …        │\n",
       "│ Cambio de ┆ MANTENIMI ┆ INSTRUCTI ┆ IT1-112-1 ┆ … ┆ 2025-11-2 ┆ null      ┆ por_vence ┆ https:// │\n",
       "│ Estanque  ┆ ENTO      ┆ VO_TECNIC ┆ 116-HA-60 ┆   ┆ 7         ┆           ┆ r         ┆ globalko │\n",
       "│ hidraulic ┆           ┆ O         ┆ 10        ┆   ┆           ┆           ┆           ┆ matsu.sh │\n",
       "│ o         ┆           ┆           ┆           ┆   ┆           ┆           ┆           ┆ arepoi…  │\n",
       "│ Ingreso y ┆ MANTENIMI ┆ INTRUCTIV ┆ KOP-I-003 ┆ … ┆ null      ┆ null      ┆ actualiza ┆ https:// │\n",
       "│ salida de ┆ ENTO      ┆ O_TRABAJO ┆ -MEL      ┆   ┆           ┆           ┆ do        ┆ globalko │\n",
       "│ camiones  ┆           ┆           ┆           ┆   ┆           ┆           ┆           ┆ matsu.sh │\n",
       "│ D…        ┆           ┆           ┆           ┆   ┆           ┆           ┆           ┆ arepoi…  │\n",
       "│ Inspecció ┆ MANTENIMI ┆ INTRUCTIV ┆ KOP-I-125 ┆ … ┆ 2026-05-2 ┆ null      ┆ por_vence ┆ https:// │\n",
       "│ n de      ┆ ENTO      ┆ O_TRABAJO ┆ 1-MEL     ┆   ┆ 8         ┆           ┆ r         ┆ globalko │\n",
       "│ puntos    ┆           ┆           ┆           ┆   ┆           ┆           ┆           ┆ matsu.sh │\n",
       "│ calientes ┆           ┆           ┆           ┆   ┆           ┆           ┆           ┆ arepoi…  │\n",
       "│ …         ┆           ┆           ┆           ┆   ┆           ┆           ┆           ┆          │\n",
       "│ Cambio de ┆ MANTENIMI ┆ INTRUCTIV ┆ KOP-I-114 ┆ … ┆ 2026-06-1 ┆ null      ┆ por_vence ┆ https:// │\n",
       "│ rotulas   ┆ ENTO      ┆ O_TRABAJO ┆ 9-MEL     ┆   ┆ 6         ┆           ┆ r         ┆ globalko │\n",
       "│ dirección ┆           ┆           ┆           ┆   ┆           ┆           ┆           ┆ matsu.sh │\n",
       "│ en…       ┆           ┆           ┆           ┆   ┆           ┆           ┆           ┆ arepoi…  │\n",
       "│ Mantenció ┆ MANTENIMI ┆ INTRUCTIV ┆ KOP-I-106 ┆ … ┆ null      ┆ null      ┆ actualiza ┆ https:// │\n",
       "│ n prevent ┆ ENTO      ┆ O_TRABAJO ┆ 2-MEL     ┆   ┆           ┆           ┆ do        ┆ globalko │\n",
       "│ iva y     ┆           ┆           ┆           ┆   ┆           ┆           ┆           ┆ matsu.sh │\n",
       "│ genera…   ┆           ┆           ┆           ┆   ┆           ┆           ┆           ┆ arepoi…  │\n",
       "└───────────┴───────────┴───────────┴───────────┴───┴───────────┴───────────┴───────────┴──────────┘"
      ],
      "text/html": [
       "<div><style>\n",
       ".dataframe > thead > tr,\n",
       ".dataframe > tbody > tr {\n",
       "  text-align: right;\n",
       "  white-space: pre-wrap;\n",
       "}\n",
       "</style>\n",
       "<small>shape: (93, 11)</small><table border=\"1\" class=\"dataframe\"><thead><tr><th>ACTIVIDAD</th><th>TIPO_INSTRUCTIVO</th><th>TIPO_DOCUMENTO</th><th>CODIGO_INSTRUCTIVO</th><th>Actualizado</th><th>FIRMA</th><th>Ultima Actualizacion</th><th>PROXIMA_REVISION_DATE</th><th>Comentario</th><th>estado_revision</th><th>file_url</th></tr><tr><td>str</td><td>str</td><td>str</td><td>str</td><td>str</td><td>str</td><td>str</td><td>date</td><td>str</td><td>str</td><td>str</td></tr></thead><tbody><tr><td>&quot;Instructivo de Bloqueo y Desen…</td><td>&quot;MANTENIMIENTO&quot;</td><td>&quot;INSTRUCTIVO_TECNICO&quot;</td><td>&quot;IG-0001-KCH-REF-E-0001-KCH&quot;</td><td>&quot;Actualizado&quot;</td><td>&quot;Electronica&quot;</td><td>&quot;26-08-2024&quot;</td><td>2026-08-26</td><td>null</td><td>&quot;por_vencer&quot;</td><td>&quot;https://globalkomatsu.sharepoi…</td></tr><tr><td>&quot;Instructivo de subida y bajada…</td><td>&quot;MANTENIMIENTO&quot;</td><td>&quot;INSTRUCTIVO_TECNICO&quot;</td><td>&quot;IG-0006-KCH-REF-E-0002-KCH&quot;</td><td>&quot;Actualizado&quot;</td><td>&quot;Electronica&quot;</td><td>&quot;15-11-2023&quot;</td><td>2025-11-15</td><td>null</td><td>&quot;por_vencer&quot;</td><td>&quot;https://globalkomatsu.sharepoi…</td></tr><tr><td>&quot;Trabajo en altura física&quot;</td><td>&quot;MANTENIMIENTO&quot;</td><td>&quot;INSTRUCTIVO_TECNICO&quot;</td><td>&quot;IG-0005-KCH-REF-E-0002-KCH&quot;</td><td>&quot;Actualizado&quot;</td><td>&quot;Electronica&quot;</td><td>&quot;2024-01-06 00:00:00&quot;</td><td>null</td><td>null</td><td>&quot;actualizado&quot;</td><td>&quot;https://globalkomatsu.sharepoi…</td></tr><tr><td>&quot;Trabajo con carga suspendida&quot;</td><td>&quot;MANTENIMIENTO&quot;</td><td>&quot;INSTRUCTIVO_TECNICO&quot;</td><td>&quot;IG-0007-KCH-REF-E-0003-KCH&quot;</td><td>&quot;Actualizado&quot;</td><td>&quot;Electronica&quot;</td><td>&quot;15-11-203&quot;</td><td>2025-11-14</td><td>null</td><td>&quot;por_vencer&quot;</td><td>&quot;https://globalkomatsu.sharepoi…</td></tr><tr><td>&quot;Ingreso y salida de equipos de…</td><td>&quot;MANTENIMIENTO&quot;</td><td>&quot;INSTRUCTIVO_TECNICO&quot;</td><td>&quot;IG-0014-KCH-REF-E-0008-KCH&quot;</td><td>&quot;Actualizado&quot;</td><td>&quot;Electronica&quot;</td><td>&quot;2024-05-02 00:00:00&quot;</td><td>null</td><td>&quot;Error en fecha de proxima revi…</td><td>&quot;actualizado&quot;</td><td>&quot;https://globalkomatsu.sharepoi…</td></tr><tr><td>&hellip;</td><td>&hellip;</td><td>&hellip;</td><td>&hellip;</td><td>&hellip;</td><td>&hellip;</td><td>&hellip;</td><td>&hellip;</td><td>&hellip;</td><td>&hellip;</td><td>&hellip;</td></tr><tr><td>&quot;Cambio de Estanque hidraulico&quot;</td><td>&quot;MANTENIMIENTO&quot;</td><td>&quot;INSTRUCTIVO_TECNICO&quot;</td><td>&quot;IT1-112-1116-HA-6010&quot;</td><td>&quot;Actualizado&quot;</td><td>&quot;Electronica&quot;</td><td>&quot;28-11-2023&quot;</td><td>2025-11-27</td><td>null</td><td>&quot;por_vencer&quot;</td><td>&quot;https://globalkomatsu.sharepoi…</td></tr><tr><td>&quot;Ingreso y salida de camiones D…</td><td>&quot;MANTENIMIENTO&quot;</td><td>&quot;INTRUCTIVO_TRABAJO&quot;</td><td>&quot;KOP-I-003-MEL&quot;</td><td>&quot;Actualizado&quot;</td><td>&quot;Electro/Manual&quot;</td><td>&quot;2024-09-01 00:00:00&quot;</td><td>null</td><td>null</td><td>&quot;actualizado&quot;</td><td>&quot;https://globalkomatsu.sharepoi…</td></tr><tr><td>&quot;Inspección de puntos calientes…</td><td>&quot;MANTENIMIENTO&quot;</td><td>&quot;INTRUCTIVO_TRABAJO&quot;</td><td>&quot;KOP-I-1251-MEL&quot;</td><td>&quot;Actualizado&quot;</td><td>&quot;Electro/Manual&quot;</td><td>&quot;28-05-2024&quot;</td><td>2026-05-28</td><td>null</td><td>&quot;por_vencer&quot;</td><td>&quot;https://globalkomatsu.sharepoi…</td></tr><tr><td>&quot;Cambio de rotulas dirección en…</td><td>&quot;MANTENIMIENTO&quot;</td><td>&quot;INTRUCTIVO_TRABAJO&quot;</td><td>&quot;KOP-I-1149-MEL&quot;</td><td>&quot;Actualizado&quot;</td><td>&quot;Electro/Manual&quot;</td><td>&quot;2024-12-06 00:00:00&quot;</td><td>2026-06-16</td><td>null</td><td>&quot;por_vencer&quot;</td><td>&quot;https://globalkomatsu.sharepoi…</td></tr><tr><td>&quot;Mantención preventiva y genera…</td><td>&quot;MANTENIMIENTO&quot;</td><td>&quot;INTRUCTIVO_TRABAJO&quot;</td><td>&quot;KOP-I-1062-MEL&quot;</td><td>&quot;Actualizado&quot;</td><td>&quot;Electro/Manual&quot;</td><td>&quot;2023-01-06 00:00:00&quot;</td><td>null</td><td>null</td><td>&quot;actualizado&quot;</td><td>&quot;https://globalkomatsu.sharepoi…</td></tr></tbody></table></div>"
      ]
     },
     "execution_count": 24,
     "metadata": {},
     "output_type": "execute_result"
    }
   ],
   "execution_count": 24
  },
  {
   "metadata": {
    "ExecuteTime": {
     "end_time": "2025-03-31T15:25:58.777395Z",
     "start_time": "2025-03-31T15:25:58.671038Z"
    }
   },
   "cell_type": "code",
   "source": [
    "# codigo para buscar archivos en una carpeta.\n",
    "dir_path = Path(os.environ[\"ONEDRIVE_LOCAL_PATH\"]) / \"INSTRUCTIVOS_TECNICOS/DOCUMENTOS\"\n",
    "files = [str(f) for f in Path(dir_path).rglob(\"*\") if f.is_file()]\n",
    "files_df = pl.DataFrame({\"filepath\": files})\n",
    "files_df\n",
    "import polars as pl\n",
    "\n",
    "# Extraer el nombre del archivo usando expresiones regulares\n",
    "files_df = files_df.with_columns(\n",
    "    pl.col(\"filepath\").str.extract(r\"([^\\\\\\/]+)\\.pdf$\", 1).alias(\"filename\")\n",
    ")\n",
    "files_df"
   ],
   "id": "e0a62ce00d75fb4a",
   "outputs": [
    {
     "data": {
      "text/plain": [
       "shape: (93, 2)\n",
       "┌─────────────────────────────────┬────────────────────────────┐\n",
       "│ filepath                        ┆ filename                   │\n",
       "│ ---                             ┆ ---                        │\n",
       "│ str                             ┆ str                        │\n",
       "╞═════════════════════════════════╪════════════════════════════╡\n",
       "│ C:\\Users\\vales\\OneDrive - Koma… ┆ IG-0001-KCH-REF-E-0001-KCH │\n",
       "│ C:\\Users\\vales\\OneDrive - Koma… ┆ IG-0005-KCH-REF-E-0002-KCH │\n",
       "│ C:\\Users\\vales\\OneDrive - Koma… ┆ IG-0006-KCH-REF-E-0002-KCH │\n",
       "│ C:\\Users\\vales\\OneDrive - Koma… ┆ IG-0007-KCH-REF-E-0003-KCH │\n",
       "│ C:\\Users\\vales\\OneDrive - Koma… ┆ IG-0014-KCH-REF-E-0008-KCH │\n",
       "│ …                               ┆ …                          │\n",
       "│ C:\\Users\\vales\\OneDrive - Koma… ┆ IT6-021-0423-RS-K@24       │\n",
       "│ C:\\Users\\vales\\OneDrive - Koma… ┆ KOP-I-003-MEL              │\n",
       "│ C:\\Users\\vales\\OneDrive - Koma… ┆ KOP-I-1062-MEL             │\n",
       "│ C:\\Users\\vales\\OneDrive - Koma… ┆ KOP-I-1149-MEL             │\n",
       "│ C:\\Users\\vales\\OneDrive - Koma… ┆ KOP-I-1251-MEL             │\n",
       "└─────────────────────────────────┴────────────────────────────┘"
      ],
      "text/html": [
       "<div><style>\n",
       ".dataframe > thead > tr,\n",
       ".dataframe > tbody > tr {\n",
       "  text-align: right;\n",
       "  white-space: pre-wrap;\n",
       "}\n",
       "</style>\n",
       "<small>shape: (93, 2)</small><table border=\"1\" class=\"dataframe\"><thead><tr><th>filepath</th><th>filename</th></tr><tr><td>str</td><td>str</td></tr></thead><tbody><tr><td>&quot;C:\\Users\\vales\\OneDrive - Koma…</td><td>&quot;IG-0001-KCH-REF-E-0001-KCH&quot;</td></tr><tr><td>&quot;C:\\Users\\vales\\OneDrive - Koma…</td><td>&quot;IG-0005-KCH-REF-E-0002-KCH&quot;</td></tr><tr><td>&quot;C:\\Users\\vales\\OneDrive - Koma…</td><td>&quot;IG-0006-KCH-REF-E-0002-KCH&quot;</td></tr><tr><td>&quot;C:\\Users\\vales\\OneDrive - Koma…</td><td>&quot;IG-0007-KCH-REF-E-0003-KCH&quot;</td></tr><tr><td>&quot;C:\\Users\\vales\\OneDrive - Koma…</td><td>&quot;IG-0014-KCH-REF-E-0008-KCH&quot;</td></tr><tr><td>&hellip;</td><td>&hellip;</td></tr><tr><td>&quot;C:\\Users\\vales\\OneDrive - Koma…</td><td>&quot;IT6-021-0423-RS-K@24&quot;</td></tr><tr><td>&quot;C:\\Users\\vales\\OneDrive - Koma…</td><td>&quot;KOP-I-003-MEL&quot;</td></tr><tr><td>&quot;C:\\Users\\vales\\OneDrive - Koma…</td><td>&quot;KOP-I-1062-MEL&quot;</td></tr><tr><td>&quot;C:\\Users\\vales\\OneDrive - Koma…</td><td>&quot;KOP-I-1149-MEL&quot;</td></tr><tr><td>&quot;C:\\Users\\vales\\OneDrive - Koma…</td><td>&quot;KOP-I-1251-MEL&quot;</td></tr></tbody></table></div>"
      ]
     },
     "execution_count": 3,
     "metadata": {},
     "output_type": "execute_result"
    }
   ],
   "execution_count": 3
  },
  {
   "metadata": {
    "ExecuteTime": {
     "end_time": "2025-03-31T15:25:59.805485Z",
     "start_time": "2025-03-31T15:25:59.715531Z"
    }
   },
   "cell_type": "code",
   "source": [
    "# Join básico entre df y files_df usando la columna filename\n",
    "mezcla_df = (\n",
    "    df.join(\n",
    "        files_df,\n",
    "        on=\"filename\",  # Columna común para unir\n",
    "        how=\"outer\",  # Tipo de join (inner por defecto)\n",
    "    ).with_columns(\n",
    "        new_filepath=pl.lit(os.environ[\"ONEDRIVE_LOCAL_PATH\"])\n",
    "        + pl.lit(\"\\\\INSTRUCTIVOS_TECNICOS\\\\DOCUMENTOS\\\\\")\n",
    "        + pl.col(\"TIPO_INSTRUCTIVO\")\n",
    "        + pl.lit(\"\\\\\")\n",
    "        + pl.col(\"TIPO_DOCUMENTO\")\n",
    "        + pl.lit(\"\\\\\")\n",
    "        + pl.col(\"filename\")\n",
    "        + pl.lit(\".pdf\")\n",
    "    )\n",
    "    # .filter((pl.col(\"filepath\").is_not_null()) & (pl.col(\"new_filepath\").is_not_null()))\n",
    "    # .drop_nulls(subset=[\"filepath\", \"new_filepath\"])\n",
    ")\n",
    "mezcla_df.filter(mezcla_df[\"filename_right\"].is_null())  # [\"filename\"].to_list()"
   ],
   "id": "2719fd8dc4b19c8",
   "outputs": [
    {
     "data": {
      "text/plain": [
       "shape: (0, 15)\n",
       "┌───────┬───────────┬────────────┬────────────┬───┬────────────┬──────────┬────────────┬───────────┐\n",
       "│ item  ┆ DOCUMENTO ┆ TIPO_INSTR ┆ TIPO_DOCUM ┆ … ┆ IT (ubicac ┆ filepath ┆ filename_r ┆ new_filep │\n",
       "│ ---   ┆ ---       ┆ UCTIVO     ┆ ENTO       ┆   ┆ ión)       ┆ ---      ┆ ight       ┆ ath       │\n",
       "│ str   ┆ str       ┆ ---        ┆ ---        ┆   ┆ ---        ┆ str      ┆ ---        ┆ ---       │\n",
       "│       ┆           ┆ str        ┆ str        ┆   ┆ str        ┆          ┆ str        ┆ str       │\n",
       "╞═══════╪═══════════╪════════════╪════════════╪═══╪════════════╪══════════╪════════════╪═══════════╡\n",
       "└───────┴───────────┴────────────┴────────────┴───┴────────────┴──────────┴────────────┴───────────┘"
      ],
      "text/html": [
       "<div><style>\n",
       ".dataframe > thead > tr,\n",
       ".dataframe > tbody > tr {\n",
       "  text-align: right;\n",
       "  white-space: pre-wrap;\n",
       "}\n",
       "</style>\n",
       "<small>shape: (0, 15)</small><table border=\"1\" class=\"dataframe\"><thead><tr><th>item </th><th>DOCUMENTO</th><th>TIPO_INSTRUCTIVO</th><th>TIPO_DOCUMENTO</th><th>filename</th><th>AT</th><th>Actualizado</th><th>Firma</th><th>Ultima Actualizacion</th><th>Proxima Revision</th><th>Comentario</th><th>IT (ubicación)</th><th>filepath</th><th>filename_right</th><th>new_filepath</th></tr><tr><td>str</td><td>str</td><td>str</td><td>str</td><td>str</td><td>str</td><td>str</td><td>str</td><td>str</td><td>str</td><td>str</td><td>str</td><td>str</td><td>str</td><td>str</td></tr></thead><tbody></tbody></table></div>"
      ]
     },
     "execution_count": 4,
     "metadata": {},
     "output_type": "execute_result"
    }
   ],
   "execution_count": 4
  },
  {
   "metadata": {},
   "cell_type": "markdown",
   "source": "\"\"Necesito hacer un código utilizando un pandas dataframe y que vaya iterando através através de cada fila. Acá que tome la columna llamada filepath, y que mediante pathlib y creando las carpeta necesarias copie los archivos en la columna filepath y los genere en los valores de la nueva columna llamda new_filepath en base a un dataframe llamada pandas_df",
   "id": "f9a5e143011bfb73"
  },
  {
   "metadata": {
    "ExecuteTime": {
     "end_time": "2025-03-31T15:26:02.154470Z",
     "start_time": "2025-03-31T15:26:01.904273Z"
    }
   },
   "cell_type": "code",
   "source": [
    "import pandas as pd\n",
    "from pathlib import Path\n",
    "import shutil\n",
    "import os\n",
    "\n",
    "# Suponiendo que ya tienes un DataFrame llamado pandas_df con columnas 'filepath' y 'new_filepath'\n",
    "\n",
    "\n",
    "def copy_files_from_dataframe(df):\n",
    "    \"\"\"\n",
    "    Copia archivos desde las rutas en la columna 'filepath' a las rutas en 'new_filepath',\n",
    "    creando los directorios necesarios en el proceso.\n",
    "\n",
    "    Args:\n",
    "        df (pandas.DataFrame): DataFrame con las columnas 'filepath' y 'new_filepath'\n",
    "\n",
    "    Returns:\n",
    "        dict: Estadísticas de la operación (archivos copiados, errores, etc.)\n",
    "    \"\"\"\n",
    "    stats = {\n",
    "        \"total_files\": len(df),\n",
    "        \"successful_copies\": 0,\n",
    "        \"failed_copies\": 0,\n",
    "        \"errors\": [],\n",
    "    }\n",
    "\n",
    "    # Iterar por cada fila del DataFrame\n",
    "    for index, row in df.iterrows():\n",
    "        source_path = Path(row[\"filepath\"])\n",
    "        target_path = Path(row[\"new_filepath\"])\n",
    "\n",
    "        try:\n",
    "            # Verificar si el archivo de origen existe\n",
    "            if not source_path.exists():\n",
    "                raise FileNotFoundError(\n",
    "                    f\"Archivo de origen no encontrado: {source_path}\"\n",
    "                )\n",
    "\n",
    "            # Crear directorios de destino si no existen\n",
    "            target_dir = target_path.parent\n",
    "            target_dir.mkdir(parents=True, exist_ok=True)\n",
    "\n",
    "            # Copiar el archivo\n",
    "            shutil.copy2(source_path, target_path)\n",
    "\n",
    "            # Actualizar estadísticas\n",
    "            stats[\"successful_copies\"] += 1\n",
    "\n",
    "            # Imprimir progreso cada 10 archivos\n",
    "            if stats[\"successful_copies\"] % 10 == 0:\n",
    "                print(\n",
    "                    f\"Progreso: {stats['successful_copies']}/{stats['total_files']} archivos copiados\"\n",
    "                )\n",
    "\n",
    "        except Exception as e:\n",
    "            # Registrar el error\n",
    "            error_info = {\n",
    "                \"index\": index,\n",
    "                \"source\": str(source_path),\n",
    "                \"target\": str(target_path),\n",
    "                \"error\": str(e),\n",
    "            }\n",
    "            stats[\"errors\"].append(error_info)\n",
    "            stats[\"failed_copies\"] += 1\n",
    "            print(f\"Error al copiar archivo {index}: {e}\")\n",
    "\n",
    "    # Imprimir resumen\n",
    "    print(f\"\\nResumen:\")\n",
    "    print(f\"Total de archivos: {stats['total_files']}\")\n",
    "    print(f\"Archivos copiados exitosamente: {stats['successful_copies']}\")\n",
    "    print(f\"Archivos con errores: {stats['failed_copies']}\")\n",
    "\n",
    "    # Opcional: guardar los errores en un archivo CSV para revisión\n",
    "    if stats[\"failed_copies\"] > 0:\n",
    "        error_df = pd.DataFrame(stats[\"errors\"])\n",
    "        error_file = \"errores_copia_archivos.csv\"\n",
    "        error_df.to_csv(error_file, index=False)\n",
    "        print(f\"Detalles de errores guardados en: {error_file}\")\n",
    "\n",
    "    return stats\n",
    "\n",
    "\n",
    "# copy_files_from_dataframe(mezcla_df.dropna(subset=[\"filepath\", \"new_filepath\"]))\n",
    "copy_files_from_dataframe(mezcla_df.to_pandas())"
   ],
   "id": "504dd2f9a21ec1d9",
   "outputs": [
    {
     "name": "stdout",
     "output_type": "stream",
     "text": [
      "Progreso: 10/93 archivos copiados\n",
      "Progreso: 20/93 archivos copiados\n",
      "Progreso: 30/93 archivos copiados\n",
      "Progreso: 40/93 archivos copiados\n",
      "Progreso: 50/93 archivos copiados\n",
      "Progreso: 60/93 archivos copiados\n",
      "Progreso: 70/93 archivos copiados\n",
      "Progreso: 80/93 archivos copiados\n",
      "Progreso: 90/93 archivos copiados\n",
      "\n",
      "Resumen:\n",
      "Total de archivos: 93\n",
      "Archivos copiados exitosamente: 93\n",
      "Archivos con errores: 0\n"
     ]
    },
    {
     "data": {
      "text/plain": [
       "{'total_files': 93, 'successful_copies': 93, 'failed_copies': 0, 'errors': []}"
      ]
     },
     "execution_count": 5,
     "metadata": {},
     "output_type": "execute_result"
    }
   ],
   "execution_count": 5
  },
  {
   "metadata": {
    "ExecuteTime": {
     "end_time": "2025-03-31T15:27:05.971170Z",
     "start_time": "2025-03-31T15:27:05.883681Z"
    }
   },
   "cell_type": "code",
   "source": "df.columns",
   "id": "e3b0f98527dec996",
   "outputs": [
    {
     "data": {
      "text/plain": [
       "['item ',\n",
       " 'DOCUMENTO',\n",
       " 'TIPO_INSTRUCTIVO',\n",
       " 'TIPO_DOCUMENTO',\n",
       " 'filename',\n",
       " 'AT',\n",
       " 'Actualizado',\n",
       " 'Firma',\n",
       " 'Ultima Actualizacion',\n",
       " 'Proxima Revision',\n",
       " 'Comentario',\n",
       " 'IT (ubicación)']"
      ]
     },
     "execution_count": 10,
     "metadata": {},
     "output_type": "execute_result"
    }
   ],
   "execution_count": 10
  },
  {
   "metadata": {
    "ExecuteTime": {
     "end_time": "2025-03-31T15:27:09.656834Z",
     "start_time": "2025-03-31T15:27:09.568540Z"
    }
   },
   "cell_type": "code",
   "source": "df.drop([\"item \"])",
   "id": "4b3071c017a9b742",
   "outputs": [
    {
     "data": {
      "text/plain": [
       "shape: (93, 11)\n",
       "┌───────────┬───────────┬───────────┬───────────┬───┬───────────┬───────────┬───────────┬──────────┐\n",
       "│ DOCUMENTO ┆ TIPO_INST ┆ TIPO_DOCU ┆ filename  ┆ … ┆ Ultima    ┆ Proxima   ┆ Comentari ┆ IT (ubic │\n",
       "│ ---       ┆ RUCTIVO   ┆ MENTO     ┆ ---       ┆   ┆ Actualiza ┆ Revision  ┆ o         ┆ ación)   │\n",
       "│ str       ┆ ---       ┆ ---       ┆ str       ┆   ┆ cion      ┆ ---       ┆ ---       ┆ ---      │\n",
       "│           ┆ str       ┆ str       ┆           ┆   ┆ ---       ┆ str       ┆ str       ┆ str      │\n",
       "│           ┆           ┆           ┆           ┆   ┆ str       ┆           ┆           ┆          │\n",
       "╞═══════════╪═══════════╪═══════════╪═══════════╪═══╪═══════════╪═══════════╪═══════════╪══════════╡\n",
       "│ Instructi ┆ MANTENIMI ┆ INSTRUCTI ┆ IG-0001-K ┆ … ┆ 26-08-202 ┆ 26-08-202 ┆ null      ┆ https:// │\n",
       "│ vo de     ┆ ENTO      ┆ VO_TECNIC ┆ CH-REF-E- ┆   ┆ 4         ┆ 6         ┆           ┆ globalko │\n",
       "│ Bloqueo y ┆           ┆ O         ┆ 0001-KCH  ┆   ┆           ┆           ┆           ┆ matsu.sh │\n",
       "│ Desen…    ┆           ┆           ┆           ┆   ┆           ┆           ┆           ┆ arepoi…  │\n",
       "│ Instructi ┆ MANTENIMI ┆ INSTRUCTI ┆ IG-0006-K ┆ … ┆ 15-11-202 ┆ 15-11-202 ┆ null      ┆ https:// │\n",
       "│ vo de     ┆ ENTO      ┆ VO_TECNIC ┆ CH-REF-E- ┆   ┆ 3         ┆ 5         ┆           ┆ globalko │\n",
       "│ subida y  ┆           ┆ O         ┆ 0002-KCH  ┆   ┆           ┆           ┆           ┆ matsu.sh │\n",
       "│ bajada…   ┆           ┆           ┆           ┆   ┆           ┆           ┆           ┆ arepoi…  │\n",
       "│ Trabajo   ┆ MANTENIMI ┆ INSTRUCTI ┆ IG-0005-K ┆ … ┆ 2024-01-0 ┆ 2026-01-0 ┆ null      ┆ https:// │\n",
       "│ en altura ┆ ENTO      ┆ VO_TECNIC ┆ CH-REF-E- ┆   ┆ 6         ┆ 6         ┆           ┆ globalko │\n",
       "│ física    ┆           ┆ O         ┆ 0002-KCH  ┆   ┆ 00:00:00  ┆ 00:00:00  ┆           ┆ matsu.sh │\n",
       "│           ┆           ┆           ┆           ┆   ┆           ┆           ┆           ┆ arepoi…  │\n",
       "│ Trabajo   ┆ MANTENIMI ┆ INSTRUCTI ┆ IG-0007-K ┆ … ┆ 15-11-203 ┆ 14-11-202 ┆ null      ┆ https:// │\n",
       "│ con carga ┆ ENTO      ┆ VO_TECNIC ┆ CH-REF-E- ┆   ┆           ┆ 5         ┆           ┆ globalko │\n",
       "│ suspendid ┆           ┆ O         ┆ 0003-KCH  ┆   ┆           ┆           ┆           ┆ matsu.sh │\n",
       "│ a         ┆           ┆           ┆           ┆   ┆           ┆           ┆           ┆ arepoi…  │\n",
       "│ Ingreso y ┆ MANTENIMI ┆ INSTRUCTI ┆ IG-0014-K ┆ … ┆ 2024-05-0 ┆ 2026-05-0 ┆ Error en  ┆ https:// │\n",
       "│ salida de ┆ ENTO      ┆ VO_TECNIC ┆ CH-REF-E- ┆   ┆ 2         ┆ 2         ┆ fecha de  ┆ globalko │\n",
       "│ equipos   ┆           ┆ O         ┆ 0008-KCH  ┆   ┆ 00:00:00  ┆ 00:00:00  ┆ proxima   ┆ matsu.sh │\n",
       "│ de…       ┆           ┆           ┆           ┆   ┆           ┆           ┆ revi…     ┆ arepoi…  │\n",
       "│ …         ┆ …         ┆ …         ┆ …         ┆ … ┆ …         ┆ …         ┆ …         ┆ …        │\n",
       "│ Cambio de ┆ MANTENIMI ┆ INSTRUCTI ┆ IT1-112-1 ┆ … ┆ 28-11-202 ┆ 27-11-202 ┆ null      ┆ null     │\n",
       "│ Estanque  ┆ ENTO      ┆ VO_TECNIC ┆ 116-HA-60 ┆   ┆ 3         ┆ 5         ┆           ┆          │\n",
       "│ hidraulic ┆           ┆ O         ┆ 10        ┆   ┆           ┆           ┆           ┆          │\n",
       "│ o         ┆           ┆           ┆           ┆   ┆           ┆           ┆           ┆          │\n",
       "│ Ingreso y ┆ MANTENIMI ┆ INTRUCTIV ┆ KOP-I-003 ┆ … ┆ 2024-09-0 ┆ 2026-09-0 ┆ null      ┆ DRS MEL  │\n",
       "│ salida de ┆ ENTO      ┆ O_TRABAJO ┆ -MEL      ┆   ┆ 1         ┆ 1         ┆           ┆ - KOP-I- │\n",
       "│ camiones  ┆           ┆           ┆           ┆   ┆ 00:00:00  ┆ 00:00:00  ┆           ┆ 003-MEL. │\n",
       "│ D…        ┆           ┆           ┆           ┆   ┆           ┆           ┆           ┆ pdf - …  │\n",
       "│ Inspecció ┆ MANTENIMI ┆ INTRUCTIV ┆ KOP-I-125 ┆ … ┆ 28-05-202 ┆ 28-05-202 ┆ null      ┆ DRS MEL  │\n",
       "│ n de      ┆ ENTO      ┆ O_TRABAJO ┆ 1-MEL     ┆   ┆ 4         ┆ 6         ┆           ┆ - KOP-I- │\n",
       "│ puntos    ┆           ┆           ┆           ┆   ┆           ┆           ┆           ┆ 1251-MEL │\n",
       "│ calientes ┆           ┆           ┆           ┆   ┆           ┆           ┆           ┆ .pdf -…  │\n",
       "│ …         ┆           ┆           ┆           ┆   ┆           ┆           ┆           ┆          │\n",
       "│ Cambio de ┆ MANTENIMI ┆ INTRUCTIV ┆ KOP-I-114 ┆ … ┆ 2024-12-0 ┆ 16-06-202 ┆ null      ┆ DRS MEL  │\n",
       "│ rotulas   ┆ ENTO      ┆ O_TRABAJO ┆ 9-MEL     ┆   ┆ 6         ┆ 6         ┆           ┆ - KOP-I- │\n",
       "│ dirección ┆           ┆           ┆           ┆   ┆ 00:00:00  ┆           ┆           ┆ 1149-MEL │\n",
       "│ en…       ┆           ┆           ┆           ┆   ┆           ┆           ┆           ┆ .pdf -…  │\n",
       "│ Mantenció ┆ MANTENIMI ┆ INTRUCTIV ┆ KOP-I-106 ┆ … ┆ 2023-01-0 ┆ 2025-01-0 ┆ null      ┆ https:// │\n",
       "│ n prevent ┆ ENTO      ┆ O_TRABAJO ┆ 2-MEL     ┆   ┆ 6         ┆ 6         ┆           ┆ globalko │\n",
       "│ iva y     ┆           ┆           ┆           ┆   ┆ 00:00:00  ┆ 00:00:00  ┆           ┆ matsu.sh │\n",
       "│ genera…   ┆           ┆           ┆           ┆   ┆           ┆           ┆           ┆ arepoi…  │\n",
       "└───────────┴───────────┴───────────┴───────────┴───┴───────────┴───────────┴───────────┴──────────┘"
      ],
      "text/html": [
       "<div><style>\n",
       ".dataframe > thead > tr,\n",
       ".dataframe > tbody > tr {\n",
       "  text-align: right;\n",
       "  white-space: pre-wrap;\n",
       "}\n",
       "</style>\n",
       "<small>shape: (93, 11)</small><table border=\"1\" class=\"dataframe\"><thead><tr><th>DOCUMENTO</th><th>TIPO_INSTRUCTIVO</th><th>TIPO_DOCUMENTO</th><th>filename</th><th>AT</th><th>Actualizado</th><th>Firma</th><th>Ultima Actualizacion</th><th>Proxima Revision</th><th>Comentario</th><th>IT (ubicación)</th></tr><tr><td>str</td><td>str</td><td>str</td><td>str</td><td>str</td><td>str</td><td>str</td><td>str</td><td>str</td><td>str</td><td>str</td></tr></thead><tbody><tr><td>&quot;Instructivo de Bloqueo y Desen…</td><td>&quot;MANTENIMIENTO&quot;</td><td>&quot;INSTRUCTIVO_TECNICO&quot;</td><td>&quot;IG-0001-KCH-REF-E-0001-KCH&quot;</td><td>&quot;S.Cepeda&quot;</td><td>&quot;Actualizado&quot;</td><td>&quot;Electronica&quot;</td><td>&quot;26-08-2024&quot;</td><td>&quot;26-08-2026&quot;</td><td>null</td><td>&quot;https://globalkomatsu.sharepoi…</td></tr><tr><td>&quot;Instructivo de subida y bajada…</td><td>&quot;MANTENIMIENTO&quot;</td><td>&quot;INSTRUCTIVO_TECNICO&quot;</td><td>&quot;IG-0006-KCH-REF-E-0002-KCH&quot;</td><td>&quot;S.Cepeda&quot;</td><td>&quot;Actualizado&quot;</td><td>&quot;Electronica&quot;</td><td>&quot;15-11-2023&quot;</td><td>&quot;15-11-2025&quot;</td><td>null</td><td>&quot;https://globalkomatsu.sharepoi…</td></tr><tr><td>&quot;Trabajo en altura física&quot;</td><td>&quot;MANTENIMIENTO&quot;</td><td>&quot;INSTRUCTIVO_TECNICO&quot;</td><td>&quot;IG-0005-KCH-REF-E-0002-KCH&quot;</td><td>&quot;S.Cepeda&quot;</td><td>&quot;Actualizado&quot;</td><td>&quot;Electronica&quot;</td><td>&quot;2024-01-06 00:00:00&quot;</td><td>&quot;2026-01-06 00:00:00&quot;</td><td>null</td><td>&quot;https://globalkomatsu.sharepoi…</td></tr><tr><td>&quot;Trabajo con carga suspendida&quot;</td><td>&quot;MANTENIMIENTO&quot;</td><td>&quot;INSTRUCTIVO_TECNICO&quot;</td><td>&quot;IG-0007-KCH-REF-E-0003-KCH&quot;</td><td>&quot;S.Cepeda&quot;</td><td>&quot;Actualizado&quot;</td><td>&quot;Electronica&quot;</td><td>&quot;15-11-203&quot;</td><td>&quot;14-11-2025&quot;</td><td>null</td><td>&quot;https://globalkomatsu.sharepoi…</td></tr><tr><td>&quot;Ingreso y salida de equipos de…</td><td>&quot;MANTENIMIENTO&quot;</td><td>&quot;INSTRUCTIVO_TECNICO&quot;</td><td>&quot;IG-0014-KCH-REF-E-0008-KCH&quot;</td><td>&quot;S.Cepeda&quot;</td><td>&quot;Actualizado&quot;</td><td>&quot;Electronica&quot;</td><td>&quot;2024-05-02 00:00:00&quot;</td><td>&quot;2026-05-02 00:00:00&quot;</td><td>&quot;Error en fecha de proxima revi…</td><td>&quot;https://globalkomatsu.sharepoi…</td></tr><tr><td>&hellip;</td><td>&hellip;</td><td>&hellip;</td><td>&hellip;</td><td>&hellip;</td><td>&hellip;</td><td>&hellip;</td><td>&hellip;</td><td>&hellip;</td><td>&hellip;</td><td>&hellip;</td></tr><tr><td>&quot;Cambio de Estanque hidraulico&quot;</td><td>&quot;MANTENIMIENTO&quot;</td><td>&quot;INSTRUCTIVO_TECNICO&quot;</td><td>&quot;IT1-112-1116-HA-6010&quot;</td><td>&quot;S.Cepeda&quot;</td><td>&quot;Actualizado&quot;</td><td>&quot;Electronica&quot;</td><td>&quot;28-11-2023&quot;</td><td>&quot;27-11-2025&quot;</td><td>null</td><td>null</td></tr><tr><td>&quot;Ingreso y salida de camiones D…</td><td>&quot;MANTENIMIENTO&quot;</td><td>&quot;INTRUCTIVO_TRABAJO&quot;</td><td>&quot;KOP-I-003-MEL&quot;</td><td>null</td><td>&quot;Actualizado&quot;</td><td>&quot;Electro/Manual&quot;</td><td>&quot;2024-09-01 00:00:00&quot;</td><td>&quot;2026-09-01 00:00:00&quot;</td><td>null</td><td>&quot;DRS MEL - KOP-I-003-MEL.pdf - …</td></tr><tr><td>&quot;Inspección de puntos calientes…</td><td>&quot;MANTENIMIENTO&quot;</td><td>&quot;INTRUCTIVO_TRABAJO&quot;</td><td>&quot;KOP-I-1251-MEL&quot;</td><td>null</td><td>&quot;Actualizado&quot;</td><td>&quot;Electro/Manual&quot;</td><td>&quot;28-05-2024&quot;</td><td>&quot;28-05-2026&quot;</td><td>null</td><td>&quot;DRS MEL - KOP-I-1251-MEL.pdf -…</td></tr><tr><td>&quot;Cambio de rotulas dirección en…</td><td>&quot;MANTENIMIENTO&quot;</td><td>&quot;INTRUCTIVO_TRABAJO&quot;</td><td>&quot;KOP-I-1149-MEL&quot;</td><td>null</td><td>&quot;Actualizado&quot;</td><td>&quot;Electro/Manual&quot;</td><td>&quot;2024-12-06 00:00:00&quot;</td><td>&quot;16-06-2026&quot;</td><td>null</td><td>&quot;DRS MEL - KOP-I-1149-MEL.pdf -…</td></tr><tr><td>&quot;Mantención preventiva y genera…</td><td>&quot;MANTENIMIENTO&quot;</td><td>&quot;INTRUCTIVO_TRABAJO&quot;</td><td>&quot;KOP-I-1062-MEL&quot;</td><td>null</td><td>&quot;Actualizado&quot;</td><td>&quot;Electro/Manual&quot;</td><td>&quot;2023-01-06 00:00:00&quot;</td><td>&quot;2025-01-06 00:00:00&quot;</td><td>null</td><td>&quot;https://globalkomatsu.sharepoi…</td></tr></tbody></table></div>"
      ]
     },
     "execution_count": 11,
     "metadata": {},
     "output_type": "execute_result"
    }
   ],
   "execution_count": 11
  },
  {
   "metadata": {
    "ExecuteTime": {
     "end_time": "2025-03-31T15:26:28.977725Z",
     "start_time": "2025-03-31T15:26:28.887835Z"
    }
   },
   "cell_type": "code",
   "source": "mezcla_df",
   "id": "a4c03ce927865640",
   "outputs": [
    {
     "data": {
      "text/plain": [
       "shape: (93, 15)\n",
       "┌───────┬────────────┬────────────┬────────────┬───┬───────────┬───────────┬───────────┬───────────┐\n",
       "│ item  ┆ DOCUMENTO  ┆ TIPO_INSTR ┆ TIPO_DOCUM ┆ … ┆ IT (ubica ┆ filepath  ┆ filename_ ┆ new_filep │\n",
       "│ ---   ┆ ---        ┆ UCTIVO     ┆ ENTO       ┆   ┆ ción)     ┆ ---       ┆ right     ┆ ath       │\n",
       "│ str   ┆ str        ┆ ---        ┆ ---        ┆   ┆ ---       ┆ str       ┆ ---       ┆ ---       │\n",
       "│       ┆            ┆ str        ┆ str        ┆   ┆ str       ┆           ┆ str       ┆ str       │\n",
       "╞═══════╪════════════╪════════════╪════════════╪═══╪═══════════╪═══════════╪═══════════╪═══════════╡\n",
       "│ 1     ┆ Instructiv ┆ MANTENIMIE ┆ INSTRUCTIV ┆ … ┆ https://g ┆ C:\\Users\\ ┆ IG-0001-K ┆ C:\\Users\\ │\n",
       "│       ┆ o de       ┆ NTO        ┆ O_TECNICO  ┆   ┆ lobalkoma ┆ vales\\One ┆ CH-REF-E- ┆ vales\\One │\n",
       "│       ┆ Bloqueo y  ┆            ┆            ┆   ┆ tsu.share ┆ Drive -   ┆ 0001-KCH  ┆ Drive -   │\n",
       "│       ┆ Desen…     ┆            ┆            ┆   ┆ poi…      ┆ Koma…     ┆           ┆ Koma…     │\n",
       "│ 3     ┆ Trabajo en ┆ MANTENIMIE ┆ INSTRUCTIV ┆ … ┆ https://g ┆ C:\\Users\\ ┆ IG-0005-K ┆ C:\\Users\\ │\n",
       "│       ┆ altura     ┆ NTO        ┆ O_TECNICO  ┆   ┆ lobalkoma ┆ vales\\One ┆ CH-REF-E- ┆ vales\\One │\n",
       "│       ┆ física     ┆            ┆            ┆   ┆ tsu.share ┆ Drive -   ┆ 0002-KCH  ┆ Drive -   │\n",
       "│       ┆            ┆            ┆            ┆   ┆ poi…      ┆ Koma…     ┆           ┆ Koma…     │\n",
       "│ 2     ┆ Instructiv ┆ MANTENIMIE ┆ INSTRUCTIV ┆ … ┆ https://g ┆ C:\\Users\\ ┆ IG-0006-K ┆ C:\\Users\\ │\n",
       "│       ┆ o de       ┆ NTO        ┆ O_TECNICO  ┆   ┆ lobalkoma ┆ vales\\One ┆ CH-REF-E- ┆ vales\\One │\n",
       "│       ┆ subida y   ┆            ┆            ┆   ┆ tsu.share ┆ Drive -   ┆ 0002-KCH  ┆ Drive -   │\n",
       "│       ┆ bajada…    ┆            ┆            ┆   ┆ poi…      ┆ Koma…     ┆           ┆ Koma…     │\n",
       "│ 4     ┆ Trabajo    ┆ MANTENIMIE ┆ INSTRUCTIV ┆ … ┆ https://g ┆ C:\\Users\\ ┆ IG-0007-K ┆ C:\\Users\\ │\n",
       "│       ┆ con carga  ┆ NTO        ┆ O_TECNICO  ┆   ┆ lobalkoma ┆ vales\\One ┆ CH-REF-E- ┆ vales\\One │\n",
       "│       ┆ suspendida ┆            ┆            ┆   ┆ tsu.share ┆ Drive -   ┆ 0003-KCH  ┆ Drive -   │\n",
       "│       ┆            ┆            ┆            ┆   ┆ poi…      ┆ Koma…     ┆           ┆ Koma…     │\n",
       "│ 5     ┆ Ingreso y  ┆ MANTENIMIE ┆ INSTRUCTIV ┆ … ┆ https://g ┆ C:\\Users\\ ┆ IG-0014-K ┆ C:\\Users\\ │\n",
       "│       ┆ salida de  ┆ NTO        ┆ O_TECNICO  ┆   ┆ lobalkoma ┆ vales\\One ┆ CH-REF-E- ┆ vales\\One │\n",
       "│       ┆ equipos    ┆            ┆            ┆   ┆ tsu.share ┆ Drive -   ┆ 0008-KCH  ┆ Drive -   │\n",
       "│       ┆ de…        ┆            ┆            ┆   ┆ poi…      ┆ Koma…     ┆           ┆ Koma…     │\n",
       "│ …     ┆ …          ┆ …          ┆ …          ┆ … ┆ …         ┆ …         ┆ …         ┆ …         │\n",
       "│ 78    ┆ Instalació ┆ MANTENIMIE ┆ INSTRUCTIV ┆ … ┆ DRS MEL - ┆ C:\\Users\\ ┆ IT6-021-0 ┆ C:\\Users\\ │\n",
       "│       ┆ n de       ┆ NTO        ┆ O_TECNICO  ┆   ┆ IT6-021-0 ┆ vales\\One ┆ 423-RS-K@ ┆ vales\\One │\n",
       "│       ┆ ductos de  ┆            ┆            ┆   ┆ 423-RS-K@ ┆ Drive -   ┆ 24        ┆ Drive -   │\n",
       "│       ┆ admis…     ┆            ┆            ┆   ┆ 24…       ┆ Koma…     ┆           ┆ Koma…     │\n",
       "│ 90    ┆ Ingreso y  ┆ MANTENIMIE ┆ INTRUCTIVO ┆ … ┆ DRS MEL - ┆ C:\\Users\\ ┆ KOP-I-003 ┆ C:\\Users\\ │\n",
       "│       ┆ salida de  ┆ NTO        ┆ _TRABAJO   ┆   ┆ KOP-I-003 ┆ vales\\One ┆ -MEL      ┆ vales\\One │\n",
       "│       ┆ camiones   ┆            ┆            ┆   ┆ -MEL.pdf  ┆ Drive -   ┆           ┆ Drive -   │\n",
       "│       ┆ D…         ┆            ┆            ┆   ┆ - …       ┆ Koma…     ┆           ┆ Koma…     │\n",
       "│ 93    ┆ Mantención ┆ MANTENIMIE ┆ INTRUCTIVO ┆ … ┆ https://g ┆ C:\\Users\\ ┆ KOP-I-106 ┆ C:\\Users\\ │\n",
       "│       ┆ preventiva ┆ NTO        ┆ _TRABAJO   ┆   ┆ lobalkoma ┆ vales\\One ┆ 2-MEL     ┆ vales\\One │\n",
       "│       ┆ y genera…  ┆            ┆            ┆   ┆ tsu.share ┆ Drive -   ┆           ┆ Drive -   │\n",
       "│       ┆            ┆            ┆            ┆   ┆ poi…      ┆ Koma…     ┆           ┆ Koma…     │\n",
       "│ 92    ┆ Cambio de  ┆ MANTENIMIE ┆ INTRUCTIVO ┆ … ┆ DRS MEL - ┆ C:\\Users\\ ┆ KOP-I-114 ┆ C:\\Users\\ │\n",
       "│       ┆ rotulas    ┆ NTO        ┆ _TRABAJO   ┆   ┆ KOP-I-114 ┆ vales\\One ┆ 9-MEL     ┆ vales\\One │\n",
       "│       ┆ dirección  ┆            ┆            ┆   ┆ 9-MEL.pdf ┆ Drive -   ┆           ┆ Drive -   │\n",
       "│       ┆ en…        ┆            ┆            ┆   ┆ -…        ┆ Koma…     ┆           ┆ Koma…     │\n",
       "│ 91    ┆ Inspección ┆ MANTENIMIE ┆ INTRUCTIVO ┆ … ┆ DRS MEL - ┆ C:\\Users\\ ┆ KOP-I-125 ┆ C:\\Users\\ │\n",
       "│       ┆ de puntos  ┆ NTO        ┆ _TRABAJO   ┆   ┆ KOP-I-125 ┆ vales\\One ┆ 1-MEL     ┆ vales\\One │\n",
       "│       ┆ calientes… ┆            ┆            ┆   ┆ 1-MEL.pdf ┆ Drive -   ┆           ┆ Drive -   │\n",
       "│       ┆            ┆            ┆            ┆   ┆ -…        ┆ Koma…     ┆           ┆ Koma…     │\n",
       "└───────┴────────────┴────────────┴────────────┴───┴───────────┴───────────┴───────────┴───────────┘"
      ],
      "text/html": [
       "<div><style>\n",
       ".dataframe > thead > tr,\n",
       ".dataframe > tbody > tr {\n",
       "  text-align: right;\n",
       "  white-space: pre-wrap;\n",
       "}\n",
       "</style>\n",
       "<small>shape: (93, 15)</small><table border=\"1\" class=\"dataframe\"><thead><tr><th>item </th><th>DOCUMENTO</th><th>TIPO_INSTRUCTIVO</th><th>TIPO_DOCUMENTO</th><th>filename</th><th>AT</th><th>Actualizado</th><th>Firma</th><th>Ultima Actualizacion</th><th>Proxima Revision</th><th>Comentario</th><th>IT (ubicación)</th><th>filepath</th><th>filename_right</th><th>new_filepath</th></tr><tr><td>str</td><td>str</td><td>str</td><td>str</td><td>str</td><td>str</td><td>str</td><td>str</td><td>str</td><td>str</td><td>str</td><td>str</td><td>str</td><td>str</td><td>str</td></tr></thead><tbody><tr><td>&quot;1&quot;</td><td>&quot;Instructivo de Bloqueo y Desen…</td><td>&quot;MANTENIMIENTO&quot;</td><td>&quot;INSTRUCTIVO_TECNICO&quot;</td><td>&quot;IG-0001-KCH-REF-E-0001-KCH&quot;</td><td>&quot;S.Cepeda&quot;</td><td>&quot;Actualizado&quot;</td><td>&quot;Electronica&quot;</td><td>&quot;26-08-2024&quot;</td><td>&quot;26-08-2026&quot;</td><td>null</td><td>&quot;https://globalkomatsu.sharepoi…</td><td>&quot;C:\\Users\\vales\\OneDrive - Koma…</td><td>&quot;IG-0001-KCH-REF-E-0001-KCH&quot;</td><td>&quot;C:\\Users\\vales\\OneDrive - Koma…</td></tr><tr><td>&quot;3&quot;</td><td>&quot;Trabajo en altura física&quot;</td><td>&quot;MANTENIMIENTO&quot;</td><td>&quot;INSTRUCTIVO_TECNICO&quot;</td><td>&quot;IG-0005-KCH-REF-E-0002-KCH&quot;</td><td>&quot;S.Cepeda&quot;</td><td>&quot;Actualizado&quot;</td><td>&quot;Electronica&quot;</td><td>&quot;2024-01-06 00:00:00&quot;</td><td>&quot;2026-01-06 00:00:00&quot;</td><td>null</td><td>&quot;https://globalkomatsu.sharepoi…</td><td>&quot;C:\\Users\\vales\\OneDrive - Koma…</td><td>&quot;IG-0005-KCH-REF-E-0002-KCH&quot;</td><td>&quot;C:\\Users\\vales\\OneDrive - Koma…</td></tr><tr><td>&quot;2&quot;</td><td>&quot;Instructivo de subida y bajada…</td><td>&quot;MANTENIMIENTO&quot;</td><td>&quot;INSTRUCTIVO_TECNICO&quot;</td><td>&quot;IG-0006-KCH-REF-E-0002-KCH&quot;</td><td>&quot;S.Cepeda&quot;</td><td>&quot;Actualizado&quot;</td><td>&quot;Electronica&quot;</td><td>&quot;15-11-2023&quot;</td><td>&quot;15-11-2025&quot;</td><td>null</td><td>&quot;https://globalkomatsu.sharepoi…</td><td>&quot;C:\\Users\\vales\\OneDrive - Koma…</td><td>&quot;IG-0006-KCH-REF-E-0002-KCH&quot;</td><td>&quot;C:\\Users\\vales\\OneDrive - Koma…</td></tr><tr><td>&quot;4&quot;</td><td>&quot;Trabajo con carga suspendida&quot;</td><td>&quot;MANTENIMIENTO&quot;</td><td>&quot;INSTRUCTIVO_TECNICO&quot;</td><td>&quot;IG-0007-KCH-REF-E-0003-KCH&quot;</td><td>&quot;S.Cepeda&quot;</td><td>&quot;Actualizado&quot;</td><td>&quot;Electronica&quot;</td><td>&quot;15-11-203&quot;</td><td>&quot;14-11-2025&quot;</td><td>null</td><td>&quot;https://globalkomatsu.sharepoi…</td><td>&quot;C:\\Users\\vales\\OneDrive - Koma…</td><td>&quot;IG-0007-KCH-REF-E-0003-KCH&quot;</td><td>&quot;C:\\Users\\vales\\OneDrive - Koma…</td></tr><tr><td>&quot;5&quot;</td><td>&quot;Ingreso y salida de equipos de…</td><td>&quot;MANTENIMIENTO&quot;</td><td>&quot;INSTRUCTIVO_TECNICO&quot;</td><td>&quot;IG-0014-KCH-REF-E-0008-KCH&quot;</td><td>&quot;S.Cepeda&quot;</td><td>&quot;Actualizado&quot;</td><td>&quot;Electronica&quot;</td><td>&quot;2024-05-02 00:00:00&quot;</td><td>&quot;2026-05-02 00:00:00&quot;</td><td>&quot;Error en fecha de proxima revi…</td><td>&quot;https://globalkomatsu.sharepoi…</td><td>&quot;C:\\Users\\vales\\OneDrive - Koma…</td><td>&quot;IG-0014-KCH-REF-E-0008-KCH&quot;</td><td>&quot;C:\\Users\\vales\\OneDrive - Koma…</td></tr><tr><td>&hellip;</td><td>&hellip;</td><td>&hellip;</td><td>&hellip;</td><td>&hellip;</td><td>&hellip;</td><td>&hellip;</td><td>&hellip;</td><td>&hellip;</td><td>&hellip;</td><td>&hellip;</td><td>&hellip;</td><td>&hellip;</td><td>&hellip;</td><td>&hellip;</td></tr><tr><td>&quot;78&quot;</td><td>&quot;Instalación de ductos de admis…</td><td>&quot;MANTENIMIENTO&quot;</td><td>&quot;INSTRUCTIVO_TECNICO&quot;</td><td>&quot;IT6-021-0423-RS-K@24&quot;</td><td>&quot;A.Moraleda&quot;</td><td>&quot;Por vencer&quot;</td><td>&quot;Electronica&quot;</td><td>&quot;15/04/2023&quot;</td><td>&quot;14/04/2025&quot;</td><td>&quot;Falta firma de analista docume…</td><td>&quot;DRS MEL - IT6-021-0423-RS-K@24…</td><td>&quot;C:\\Users\\vales\\OneDrive - Koma…</td><td>&quot;IT6-021-0423-RS-K@24&quot;</td><td>&quot;C:\\Users\\vales\\OneDrive - Koma…</td></tr><tr><td>&quot;90&quot;</td><td>&quot;Ingreso y salida de camiones D…</td><td>&quot;MANTENIMIENTO&quot;</td><td>&quot;INTRUCTIVO_TRABAJO&quot;</td><td>&quot;KOP-I-003-MEL&quot;</td><td>null</td><td>&quot;Actualizado&quot;</td><td>&quot;Electro/Manual&quot;</td><td>&quot;2024-09-01 00:00:00&quot;</td><td>&quot;2026-09-01 00:00:00&quot;</td><td>null</td><td>&quot;DRS MEL - KOP-I-003-MEL.pdf - …</td><td>&quot;C:\\Users\\vales\\OneDrive - Koma…</td><td>&quot;KOP-I-003-MEL&quot;</td><td>&quot;C:\\Users\\vales\\OneDrive - Koma…</td></tr><tr><td>&quot;93&quot;</td><td>&quot;Mantención preventiva y genera…</td><td>&quot;MANTENIMIENTO&quot;</td><td>&quot;INTRUCTIVO_TRABAJO&quot;</td><td>&quot;KOP-I-1062-MEL&quot;</td><td>null</td><td>&quot;Actualizado&quot;</td><td>&quot;Electro/Manual&quot;</td><td>&quot;2023-01-06 00:00:00&quot;</td><td>&quot;2025-01-06 00:00:00&quot;</td><td>null</td><td>&quot;https://globalkomatsu.sharepoi…</td><td>&quot;C:\\Users\\vales\\OneDrive - Koma…</td><td>&quot;KOP-I-1062-MEL&quot;</td><td>&quot;C:\\Users\\vales\\OneDrive - Koma…</td></tr><tr><td>&quot;92&quot;</td><td>&quot;Cambio de rotulas dirección en…</td><td>&quot;MANTENIMIENTO&quot;</td><td>&quot;INTRUCTIVO_TRABAJO&quot;</td><td>&quot;KOP-I-1149-MEL&quot;</td><td>null</td><td>&quot;Actualizado&quot;</td><td>&quot;Electro/Manual&quot;</td><td>&quot;2024-12-06 00:00:00&quot;</td><td>&quot;16-06-2026&quot;</td><td>null</td><td>&quot;DRS MEL - KOP-I-1149-MEL.pdf -…</td><td>&quot;C:\\Users\\vales\\OneDrive - Koma…</td><td>&quot;KOP-I-1149-MEL&quot;</td><td>&quot;C:\\Users\\vales\\OneDrive - Koma…</td></tr><tr><td>&quot;91&quot;</td><td>&quot;Inspección de puntos calientes…</td><td>&quot;MANTENIMIENTO&quot;</td><td>&quot;INTRUCTIVO_TRABAJO&quot;</td><td>&quot;KOP-I-1251-MEL&quot;</td><td>null</td><td>&quot;Actualizado&quot;</td><td>&quot;Electro/Manual&quot;</td><td>&quot;28-05-2024&quot;</td><td>&quot;28-05-2026&quot;</td><td>null</td><td>&quot;DRS MEL - KOP-I-1251-MEL.pdf -…</td><td>&quot;C:\\Users\\vales\\OneDrive - Koma…</td><td>&quot;KOP-I-1251-MEL&quot;</td><td>&quot;C:\\Users\\vales\\OneDrive - Koma…</td></tr></tbody></table></div>"
      ]
     },
     "execution_count": 6,
     "metadata": {},
     "output_type": "execute_result"
    }
   ],
   "execution_count": 6
  },
  {
   "metadata": {
    "ExecuteTime": {
     "end_time": "2025-03-31T15:24:57.922650Z",
     "start_time": "2025-03-31T15:24:57.834329Z"
    }
   },
   "cell_type": "code",
   "source": "mezcla_df[\"new_filepath\"][0]",
   "id": "3724c30760a73cb9",
   "outputs": [
    {
     "data": {
      "text/plain": [
       "'C:\\\\Users\\\\vales\\\\OneDrive - Komatsu Ltd\\\\INSTRUCTIVOS_TECNICOS\\\\DOCUMENTOS\\\\MANTENIMIENTO\\\\INSTRUCTIVO_TECNICO\\\\IG-0001-KCH-REF-E-0001-KCH.pdf'"
      ]
     },
     "execution_count": 13,
     "metadata": {},
     "output_type": "execute_result"
    }
   ],
   "execution_count": 13
  },
  {
   "metadata": {},
   "cell_type": "code",
   "outputs": [],
   "execution_count": null,
   "source": "",
   "id": "33976d760b46f6bd"
  }
 ],
 "metadata": {
  "kernelspec": {
   "display_name": "Python 3",
   "language": "python",
   "name": "python3"
  },
  "language_info": {
   "codemirror_mode": {
    "name": "ipython",
    "version": 2
   },
   "file_extension": ".py",
   "mimetype": "text/x-python",
   "name": "python",
   "nbconvert_exporter": "python",
   "pygments_lexer": "ipython2",
   "version": "2.7.6"
  }
 },
 "nbformat": 4,
 "nbformat_minor": 5
}
