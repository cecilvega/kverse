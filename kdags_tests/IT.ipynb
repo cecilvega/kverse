{
 "cells": [
  {
   "metadata": {
    "collapsed": true,
    "ExecuteTime": {
     "end_time": "2025-03-27T01:08:40.440382Z",
     "start_time": "2025-03-27T01:08:35.292915Z"
    }
   },
   "cell_type": "code",
   "source": [
    "### CORRERLO INICIALENTE ###\n",
    "%load_ext autoreload\n",
    "%autoreload 2\n",
    "%reload_ext autoreload\n",
    "\n",
    "import sys\n",
    "from pathlib import Path\n",
    "\n",
    "import pandas as pd\n",
    "import polars as pl\n",
    "import dagster as dg\n",
    "from kdags.resources.dplyr import *\n",
    "from kdags.resources.tidyr import *\n",
    "from io import BytesIO\n",
    "import pdfplumber\n",
    "\n",
    "from datetime import datetime\n",
    "import re\n",
    "import os\n",
    "from kdags.definitions import *\n",
    "from kdags.readr import *\n",
    "\n",
    "context = dg.build_asset_context()\n",
    "### IGNORAR ###"
   ],
   "id": "b3c477257d3da967",
   "outputs": [],
   "execution_count": 1
  },
  {
   "metadata": {
    "ExecuteTime": {
     "end_time": "2025-03-27T01:10:08.633042Z",
     "start_time": "2025-03-27T01:10:08.497256Z"
    }
   },
   "cell_type": "code",
   "source": [
    "import polars as pl\n",
    "\n",
    "# Forma básica de leer un archivo Excel\n",
    "df = pl.read_excel(\n",
    "    Path(os.environ[\"ONEDRIVE_LOCAL_PATH\"])\n",
    "    / \"INTRUCTIVOS_TECNICOS/Instrucivos para revisar modificado.xlsx\"\n",
    ")\n",
    "df"
   ],
   "id": "2184dc42e5bc89c4",
   "outputs": [
    {
     "name": "stderr",
     "output_type": "stream",
     "text": [
      "Could not determine dtype for column 4, falling back to string\n"
     ]
    },
    {
     "data": {
      "text/plain": [
       "shape: (93, 12)\n",
       "┌───────┬────────────┬────────────┬────────────┬───┬───────────┬───────────┬───────────┬───────────┐\n",
       "│ item  ┆ DOCUMENTO  ┆ TIPO_INSTR ┆ TIPO_DOCUM ┆ … ┆ Ultima    ┆ Proxima   ┆ Comentari ┆ IT (ubica │\n",
       "│ ---   ┆ ---        ┆ UCTIVO     ┆ ENTO       ┆   ┆ Actualiza ┆ Revision  ┆ o         ┆ ción)     │\n",
       "│ i64   ┆ str        ┆ ---        ┆ ---        ┆   ┆ cion      ┆ ---       ┆ ---       ┆ ---       │\n",
       "│       ┆            ┆ str        ┆ str        ┆   ┆ ---       ┆ str       ┆ str       ┆ str       │\n",
       "│       ┆            ┆            ┆            ┆   ┆ str       ┆           ┆           ┆           │\n",
       "╞═══════╪════════════╪════════════╪════════════╪═══╪═══════════╪═══════════╪═══════════╪═══════════╡\n",
       "│ 1     ┆ Instructiv ┆ MANTENIMIE ┆ INSTRUCTIV ┆ … ┆ 26-08-202 ┆ 26-08-202 ┆ null      ┆ https://g │\n",
       "│       ┆ o de       ┆ NTO        ┆ O_TECNICO  ┆   ┆ 4         ┆ 6         ┆           ┆ lobalkoma │\n",
       "│       ┆ Bloqueo y  ┆            ┆            ┆   ┆           ┆           ┆           ┆ tsu.share │\n",
       "│       ┆ Desen…     ┆            ┆            ┆   ┆           ┆           ┆           ┆ poi…      │\n",
       "│ 2     ┆ Instructiv ┆ MANTENIMIE ┆ INSTRUCTIV ┆ … ┆ 15-11-202 ┆ 15-11-202 ┆ null      ┆ https://g │\n",
       "│       ┆ o de       ┆ NTO        ┆ O_TECNICO  ┆   ┆ 3         ┆ 5         ┆           ┆ lobalkoma │\n",
       "│       ┆ subida y   ┆            ┆            ┆   ┆           ┆           ┆           ┆ tsu.share │\n",
       "│       ┆ bajada…    ┆            ┆            ┆   ┆           ┆           ┆           ┆ poi…      │\n",
       "│ 3     ┆ Trabajo en ┆ MANTENIMIE ┆ INSTRUCTIV ┆ … ┆ 2024-01-0 ┆ 2026-01-0 ┆ null      ┆ https://g │\n",
       "│       ┆ altura     ┆ NTO        ┆ O_TECNICO  ┆   ┆ 6         ┆ 6         ┆           ┆ lobalkoma │\n",
       "│       ┆ física     ┆            ┆            ┆   ┆ 00:00:00  ┆ 00:00:00  ┆           ┆ tsu.share │\n",
       "│       ┆            ┆            ┆            ┆   ┆           ┆           ┆           ┆ poi…      │\n",
       "│ 4     ┆ Trabajo    ┆ MANTENIMIE ┆ INSTRUCTIV ┆ … ┆ 15-11-203 ┆ 14-11-202 ┆ null      ┆ https://g │\n",
       "│       ┆ con carga  ┆ NTO        ┆ O_TECNICO  ┆   ┆           ┆ 5         ┆           ┆ lobalkoma │\n",
       "│       ┆ suspendida ┆            ┆            ┆   ┆           ┆           ┆           ┆ tsu.share │\n",
       "│       ┆            ┆            ┆            ┆   ┆           ┆           ┆           ┆ poi…      │\n",
       "│ 5     ┆ Ingreso y  ┆ MANTENIMIE ┆ INSTRUCTIV ┆ … ┆ 2024-05-0 ┆ 2026-05-0 ┆ Error en  ┆ https://g │\n",
       "│       ┆ salida de  ┆ NTO        ┆ O_TECNICO  ┆   ┆ 2         ┆ 2         ┆ fecha de  ┆ lobalkoma │\n",
       "│       ┆ equipos    ┆            ┆            ┆   ┆ 00:00:00  ┆ 00:00:00  ┆ proxima   ┆ tsu.share │\n",
       "│       ┆ de…        ┆            ┆            ┆   ┆           ┆           ┆ revi…     ┆ poi…      │\n",
       "│ …     ┆ …          ┆ …          ┆ …          ┆ … ┆ …         ┆ …         ┆ …         ┆ …         │\n",
       "│ 89    ┆ Cambio de  ┆ MANTENIMIE ┆ INSTRUCTIV ┆ … ┆ 28-11-202 ┆ 27-11-202 ┆ null      ┆ null      │\n",
       "│       ┆ Estanque   ┆ NTO        ┆ O_TECNICO  ┆   ┆ 3         ┆ 5         ┆           ┆           │\n",
       "│       ┆ hidraulico ┆            ┆            ┆   ┆           ┆           ┆           ┆           │\n",
       "│ 90    ┆ Ingreso y  ┆ MANTENIMIE ┆ INTRUCTIVO ┆ … ┆ 2024-09-0 ┆ 2026-09-0 ┆ null      ┆ DRS MEL - │\n",
       "│       ┆ salida de  ┆ NTO        ┆ _TRABAJO   ┆   ┆ 1         ┆ 1         ┆           ┆ KOP-I-003 │\n",
       "│       ┆ camiones   ┆            ┆            ┆   ┆ 00:00:00  ┆ 00:00:00  ┆           ┆ -MEL.pdf  │\n",
       "│       ┆ D…         ┆            ┆            ┆   ┆           ┆           ┆           ┆ - …       │\n",
       "│ 91    ┆ Inspección ┆ MANTENIMIE ┆ INTRUCTIVO ┆ … ┆ 28-05-202 ┆ 28-05-202 ┆ null      ┆ DRS MEL - │\n",
       "│       ┆ de puntos  ┆ NTO        ┆ _TRABAJO   ┆   ┆ 4         ┆ 6         ┆           ┆ KOP-I-125 │\n",
       "│       ┆ calientes… ┆            ┆            ┆   ┆           ┆           ┆           ┆ 1-MEL.pdf │\n",
       "│       ┆            ┆            ┆            ┆   ┆           ┆           ┆           ┆ -…        │\n",
       "│ 92    ┆ Cambio de  ┆ MANTENIMIE ┆ INTRUCTIVO ┆ … ┆ 2024-12-0 ┆ 16-06-202 ┆ null      ┆ DRS MEL - │\n",
       "│       ┆ rotulas    ┆ NTO        ┆ _TRABAJO   ┆   ┆ 6         ┆ 6         ┆           ┆ KOP-I-114 │\n",
       "│       ┆ dirección  ┆            ┆            ┆   ┆ 00:00:00  ┆           ┆           ┆ 9-MEL.pdf │\n",
       "│       ┆ en…        ┆            ┆            ┆   ┆           ┆           ┆           ┆ -…        │\n",
       "│ 93    ┆ Mantención ┆ MANTENIMIE ┆ INTRUCTIVO ┆ … ┆ 2023-01-0 ┆ 2025-01-0 ┆ null      ┆ https://g │\n",
       "│       ┆ preventiva ┆ NTO        ┆ _TRABAJO   ┆   ┆ 6         ┆ 6         ┆           ┆ lobalkoma │\n",
       "│       ┆ y genera…  ┆            ┆            ┆   ┆ 00:00:00  ┆ 00:00:00  ┆           ┆ tsu.share │\n",
       "│       ┆            ┆            ┆            ┆   ┆           ┆           ┆           ┆ poi…      │\n",
       "└───────┴────────────┴────────────┴────────────┴───┴───────────┴───────────┴───────────┴───────────┘"
      ],
      "text/html": [
       "<div><style>\n",
       ".dataframe > thead > tr,\n",
       ".dataframe > tbody > tr {\n",
       "  text-align: right;\n",
       "  white-space: pre-wrap;\n",
       "}\n",
       "</style>\n",
       "<small>shape: (93, 12)</small><table border=\"1\" class=\"dataframe\"><thead><tr><th>item </th><th>DOCUMENTO</th><th>TIPO_INSTRUCTIVO</th><th>TIPO_DOCUMENTO</th><th>filename</th><th>AT</th><th>Actualizado</th><th>Firma</th><th>Ultima Actualizacion</th><th>Proxima Revision</th><th>Comentario</th><th>IT (ubicación)</th></tr><tr><td>i64</td><td>str</td><td>str</td><td>str</td><td>str</td><td>str</td><td>str</td><td>str</td><td>str</td><td>str</td><td>str</td><td>str</td></tr></thead><tbody><tr><td>1</td><td>&quot;Instructivo de Bloqueo y Desen…</td><td>&quot;MANTENIMIENTO&quot;</td><td>&quot;INSTRUCTIVO_TECNICO&quot;</td><td>&quot;IG-0001-KCH-REF-E-0001-KCH&quot;</td><td>&quot;S.Cepeda&quot;</td><td>&quot;Actualizado&quot;</td><td>&quot;Electronica&quot;</td><td>&quot;26-08-2024&quot;</td><td>&quot;26-08-2026&quot;</td><td>null</td><td>&quot;https://globalkomatsu.sharepoi…</td></tr><tr><td>2</td><td>&quot;Instructivo de subida y bajada…</td><td>&quot;MANTENIMIENTO&quot;</td><td>&quot;INSTRUCTIVO_TECNICO&quot;</td><td>&quot;IG-0006-KCH-REF-E-0002-KCH&quot;</td><td>&quot;S.Cepeda&quot;</td><td>&quot;Actualizado&quot;</td><td>&quot;Electronica&quot;</td><td>&quot;15-11-2023&quot;</td><td>&quot;15-11-2025&quot;</td><td>null</td><td>&quot;https://globalkomatsu.sharepoi…</td></tr><tr><td>3</td><td>&quot;Trabajo en altura física&quot;</td><td>&quot;MANTENIMIENTO&quot;</td><td>&quot;INSTRUCTIVO_TECNICO&quot;</td><td>&quot;G-0005-KCH-REF-E-0002-KCH&quot;</td><td>&quot;S.Cepeda&quot;</td><td>&quot;Actualizado&quot;</td><td>&quot;Electronica&quot;</td><td>&quot;2024-01-06 00:00:00&quot;</td><td>&quot;2026-01-06 00:00:00&quot;</td><td>null</td><td>&quot;https://globalkomatsu.sharepoi…</td></tr><tr><td>4</td><td>&quot;Trabajo con carga suspendida&quot;</td><td>&quot;MANTENIMIENTO&quot;</td><td>&quot;INSTRUCTIVO_TECNICO&quot;</td><td>&quot;IG-0007-KCH-REF-E-0003-KCH&quot;</td><td>&quot;S.Cepeda&quot;</td><td>&quot;Actualizado&quot;</td><td>&quot;Electronica&quot;</td><td>&quot;15-11-203&quot;</td><td>&quot;14-11-2025&quot;</td><td>null</td><td>&quot;https://globalkomatsu.sharepoi…</td></tr><tr><td>5</td><td>&quot;Ingreso y salida de equipos de…</td><td>&quot;MANTENIMIENTO&quot;</td><td>&quot;INSTRUCTIVO_TECNICO&quot;</td><td>&quot;IG-0014-KCH-REF-E-0008-KCH&quot;</td><td>&quot;S.Cepeda&quot;</td><td>&quot;Actualizado&quot;</td><td>&quot;Electronica&quot;</td><td>&quot;2024-05-02 00:00:00&quot;</td><td>&quot;2026-05-02 00:00:00&quot;</td><td>&quot;Error en fecha de proxima revi…</td><td>&quot;https://globalkomatsu.sharepoi…</td></tr><tr><td>&hellip;</td><td>&hellip;</td><td>&hellip;</td><td>&hellip;</td><td>&hellip;</td><td>&hellip;</td><td>&hellip;</td><td>&hellip;</td><td>&hellip;</td><td>&hellip;</td><td>&hellip;</td><td>&hellip;</td></tr><tr><td>89</td><td>&quot;Cambio de Estanque hidraulico&quot;</td><td>&quot;MANTENIMIENTO&quot;</td><td>&quot;INSTRUCTIVO_TECNICO&quot;</td><td>&quot;IT1-112-1116-HA-6010&quot;</td><td>&quot;S.Cepeda&quot;</td><td>&quot;Actualizado&quot;</td><td>&quot;Electronica&quot;</td><td>&quot;28-11-2023&quot;</td><td>&quot;27-11-2025&quot;</td><td>null</td><td>null</td></tr><tr><td>90</td><td>&quot;Ingreso y salida de camiones D…</td><td>&quot;MANTENIMIENTO&quot;</td><td>&quot;INTRUCTIVO_TRABAJO&quot;</td><td>&quot;KOP-I-003-MEL&quot;</td><td>null</td><td>&quot;Actualizado&quot;</td><td>&quot;Electro/Manual&quot;</td><td>&quot;2024-09-01 00:00:00&quot;</td><td>&quot;2026-09-01 00:00:00&quot;</td><td>null</td><td>&quot;DRS MEL - KOP-I-003-MEL.pdf - …</td></tr><tr><td>91</td><td>&quot;Inspección de puntos calientes…</td><td>&quot;MANTENIMIENTO&quot;</td><td>&quot;INTRUCTIVO_TRABAJO&quot;</td><td>&quot;KOP-I-1251-MEL&quot;</td><td>null</td><td>&quot;Actualizado&quot;</td><td>&quot;Electro/Manual&quot;</td><td>&quot;28-05-2024&quot;</td><td>&quot;28-05-2026&quot;</td><td>null</td><td>&quot;DRS MEL - KOP-I-1251-MEL.pdf -…</td></tr><tr><td>92</td><td>&quot;Cambio de rotulas dirección en…</td><td>&quot;MANTENIMIENTO&quot;</td><td>&quot;INTRUCTIVO_TRABAJO&quot;</td><td>&quot;KOP-I-1149-MEL&quot;</td><td>null</td><td>&quot;Actualizado&quot;</td><td>&quot;Electro/Manual&quot;</td><td>&quot;2024-12-06 00:00:00&quot;</td><td>&quot;16-06-2026&quot;</td><td>null</td><td>&quot;DRS MEL - KOP-I-1149-MEL.pdf -…</td></tr><tr><td>93</td><td>&quot;Mantención preventiva y genera…</td><td>&quot;MANTENIMIENTO&quot;</td><td>&quot;INTRUCTIVO_TRABAJO&quot;</td><td>&quot;KOP-I-1062-MEL&quot;</td><td>null</td><td>&quot;Actualizado&quot;</td><td>&quot;Electro/Manual&quot;</td><td>&quot;2023-01-06 00:00:00&quot;</td><td>&quot;2025-01-06 00:00:00&quot;</td><td>null</td><td>&quot;https://globalkomatsu.sharepoi…</td></tr></tbody></table></div>"
      ]
     },
     "execution_count": 3,
     "metadata": {},
     "output_type": "execute_result"
    }
   ],
   "execution_count": 3
  },
  {
   "metadata": {
    "ExecuteTime": {
     "end_time": "2025-03-24T21:30:36.797446Z",
     "start_time": "2025-03-24T21:30:36.629994Z"
    }
   },
   "cell_type": "code",
   "source": [
    "# codigo para buscar archivos en una carpeta.\n",
    "dir_path = \"C:\\\\Users\\\\SCCF9\\\\OneDrive\\\\Desktop\\\\IT\\\\IT\"\n",
    "files = [str(f) for f in Path(dir_path).rglob(\"*\") if f.is_file()]\n",
    "files_df = pl.DataFrame({\"filepath\": files})\n",
    "files_df\n",
    "import polars as pl\n",
    "\n",
    "# Extraer el nombre del archivo usando expresiones regulares\n",
    "files_df = files_df.with_columns(\n",
    "    pl.col(\"filepath\").str.extract(r\"([^\\\\\\/]+)\\.pdf$\", 1).alias(\"filename\")\n",
    ")\n",
    "files_df"
   ],
   "id": "e0a62ce00d75fb4a",
   "outputs": [
    {
     "data": {
      "text/plain": [
       "shape: (87, 2)\n",
       "┌─────────────────────────────────┬────────────────────────────┐\n",
       "│ filepath                        ┆ filename                   │\n",
       "│ ---                             ┆ ---                        │\n",
       "│ str                             ┆ str                        │\n",
       "╞═════════════════════════════════╪════════════════════════════╡\n",
       "│ C:\\Users\\SCCF9\\OneDrive\\Deskto… ┆ IG-0001-KCH-REF-E-0001-KCH │\n",
       "│ C:\\Users\\SCCF9\\OneDrive\\Deskto… ┆ IG-0006-KCH-REF-E-0002-KCH │\n",
       "│ C:\\Users\\SCCF9\\OneDrive\\Deskto… ┆ IG-0007-KCH-REF-E-0003-KCH │\n",
       "│ C:\\Users\\SCCF9\\OneDrive\\Deskto… ┆ IG-0014-KCH-REF-E-0008-KCH │\n",
       "│ C:\\Users\\SCCF9\\OneDrive\\Deskto… ┆ IG-0016-KCH-REF-E-0010-KCH │\n",
       "│ …                               ┆ …                          │\n",
       "│ C:\\Users\\SCCF9\\OneDrive\\Deskto… ┆ IT4-073-1117-PL-5700       │\n",
       "│ C:\\Users\\SCCF9\\OneDrive\\Deskto… ┆ IT4-076-0821-HA-AA10       │\n",
       "│ C:\\Users\\SCCF9\\OneDrive\\Deskto… ┆ IT5-007-0524-HA-D000       │\n",
       "│ C:\\Users\\SCCF9\\OneDrive\\Deskto… ┆ IT6-010-1022-RS-0960       │\n",
       "│ C:\\Users\\SCCF9\\OneDrive\\Deskto… ┆ IT6-021-0423-RS-K@24       │\n",
       "└─────────────────────────────────┴────────────────────────────┘"
      ],
      "text/html": [
       "<div><style>\n",
       ".dataframe > thead > tr,\n",
       ".dataframe > tbody > tr {\n",
       "  text-align: right;\n",
       "  white-space: pre-wrap;\n",
       "}\n",
       "</style>\n",
       "<small>shape: (87, 2)</small><table border=\"1\" class=\"dataframe\"><thead><tr><th>filepath</th><th>filename</th></tr><tr><td>str</td><td>str</td></tr></thead><tbody><tr><td>&quot;C:\\Users\\SCCF9\\OneDrive\\Deskto…</td><td>&quot;IG-0001-KCH-REF-E-0001-KCH&quot;</td></tr><tr><td>&quot;C:\\Users\\SCCF9\\OneDrive\\Deskto…</td><td>&quot;IG-0006-KCH-REF-E-0002-KCH&quot;</td></tr><tr><td>&quot;C:\\Users\\SCCF9\\OneDrive\\Deskto…</td><td>&quot;IG-0007-KCH-REF-E-0003-KCH&quot;</td></tr><tr><td>&quot;C:\\Users\\SCCF9\\OneDrive\\Deskto…</td><td>&quot;IG-0014-KCH-REF-E-0008-KCH&quot;</td></tr><tr><td>&quot;C:\\Users\\SCCF9\\OneDrive\\Deskto…</td><td>&quot;IG-0016-KCH-REF-E-0010-KCH&quot;</td></tr><tr><td>&hellip;</td><td>&hellip;</td></tr><tr><td>&quot;C:\\Users\\SCCF9\\OneDrive\\Deskto…</td><td>&quot;IT4-073-1117-PL-5700&quot;</td></tr><tr><td>&quot;C:\\Users\\SCCF9\\OneDrive\\Deskto…</td><td>&quot;IT4-076-0821-HA-AA10&quot;</td></tr><tr><td>&quot;C:\\Users\\SCCF9\\OneDrive\\Deskto…</td><td>&quot;IT5-007-0524-HA-D000&quot;</td></tr><tr><td>&quot;C:\\Users\\SCCF9\\OneDrive\\Deskto…</td><td>&quot;IT6-010-1022-RS-0960&quot;</td></tr><tr><td>&quot;C:\\Users\\SCCF9\\OneDrive\\Deskto…</td><td>&quot;IT6-021-0423-RS-K@24&quot;</td></tr></tbody></table></div>"
      ]
     },
     "execution_count": 3,
     "metadata": {},
     "output_type": "execute_result"
    }
   ],
   "execution_count": 3
  },
  {
   "metadata": {
    "ExecuteTime": {
     "end_time": "2025-03-24T21:30:38.879951Z",
     "start_time": "2025-03-24T21:30:38.717802Z"
    }
   },
   "cell_type": "code",
   "source": [
    "# Join básico entre df y files_df usando la columna filename\n",
    "mezcla_df = (\n",
    "    df.join(\n",
    "        files_df,\n",
    "        on=\"filename\",  # Columna común para unir\n",
    "        how=\"outer\",  # Tipo de join (inner por defecto)\n",
    "    ).with_columns(\n",
    "        new_filepath=pl.lit(\"C:\\\\Users\\\\SCCF9\\\\OneDrive\\\\Desktop\\\\IT\\\\Nueva IT\")\n",
    "        + pl.lit(\"\\\\\")\n",
    "        + pl.col(\"TIPO_INSTRUCTIVO\")\n",
    "        + pl.lit(\"\\\\\")\n",
    "        + pl.col(\"TIPO_DOCUMENTO\")\n",
    "        + pl.lit(\"\\\\\")\n",
    "        + pl.col(\"filename\")\n",
    "        + pl.lit(\".pdf\")\n",
    "    )\n",
    "    # .filter((pl.col(\"filepath\").is_not_null()) & (pl.col(\"new_filepath\").is_not_null()))\n",
    "    .drop_nulls(subset=[\"filepath\", \"new_filepath\"])\n",
    ")\n",
    "mezcla_df.filter(mezcla_df[\"filename\"].is_null())  # [\"filename\"].to_list()"
   ],
   "id": "2719fd8dc4b19c8",
   "outputs": [
    {
     "data": {
      "text/plain": [
       "shape: (0, 15)\n",
       "┌───────┬───────────┬────────────┬────────────┬───┬────────────┬──────────┬────────────┬───────────┐\n",
       "│ item  ┆ DOCUMENTO ┆ TIPO_INSTR ┆ TIPO_DOCUM ┆ … ┆ IT (ubicac ┆ filepath ┆ filename_r ┆ new_filep │\n",
       "│ ---   ┆ ---       ┆ UCTIVO     ┆ ENTO       ┆   ┆ ión)       ┆ ---      ┆ ight       ┆ ath       │\n",
       "│ i64   ┆ str       ┆ ---        ┆ ---        ┆   ┆ ---        ┆ str      ┆ ---        ┆ ---       │\n",
       "│       ┆           ┆ str        ┆ str        ┆   ┆ str        ┆          ┆ str        ┆ str       │\n",
       "╞═══════╪═══════════╪════════════╪════════════╪═══╪════════════╪══════════╪════════════╪═══════════╡\n",
       "└───────┴───────────┴────────────┴────────────┴───┴────────────┴──────────┴────────────┴───────────┘"
      ],
      "text/html": [
       "<div><style>\n",
       ".dataframe > thead > tr,\n",
       ".dataframe > tbody > tr {\n",
       "  text-align: right;\n",
       "  white-space: pre-wrap;\n",
       "}\n",
       "</style>\n",
       "<small>shape: (0, 15)</small><table border=\"1\" class=\"dataframe\"><thead><tr><th>item </th><th>DOCUMENTO</th><th>TIPO_INSTRUCTIVO</th><th>TIPO_DOCUMENTO</th><th>filename</th><th>AT</th><th>Actualizado</th><th>Firma</th><th>Ultima Actualizacion</th><th>Proxima Revision</th><th>Comentario</th><th>IT (ubicación)</th><th>filepath</th><th>filename_right</th><th>new_filepath</th></tr><tr><td>i64</td><td>str</td><td>str</td><td>str</td><td>str</td><td>str</td><td>str</td><td>str</td><td>str</td><td>str</td><td>str</td><td>str</td><td>str</td><td>str</td><td>str</td></tr></thead><tbody></tbody></table></div>"
      ]
     },
     "execution_count": 4,
     "metadata": {},
     "output_type": "execute_result"
    }
   ],
   "execution_count": 4
  },
  {
   "metadata": {
    "ExecuteTime": {
     "end_time": "2025-03-24T19:54:09.709210Z",
     "start_time": "2025-03-24T19:54:09.613391Z"
    }
   },
   "cell_type": "code",
   "source": "mezcla_df[\"new_filepath\"][0]",
   "id": "46355973a813fe6b",
   "outputs": [
    {
     "data": {
      "text/plain": [
       "'C:\\\\Users\\\\SCCF9\\\\OneDrive\\\\Desktop\\\\IT\\\\Nueva IT\\\\MANTENIMIENTO\\\\INSTRUCTIVO_TECNICO\\\\IT4-067-0615-HA-5520.pdf'"
      ]
     },
     "execution_count": 87,
     "metadata": {},
     "output_type": "execute_result"
    }
   ],
   "execution_count": 87
  },
  {
   "metadata": {},
   "cell_type": "markdown",
   "source": "\"\"Necesito hacer un código utilizando un pandas dataframe y que vaya iterando através através de cada fila. Acá que tome la columna llamada filepath, y que mediante pathlib y creando las carpeta necesarias copie los archivos en la columna filepath y los genere en los valores de la nueva columna llamda new_filepath en base a un dataframe llamada pandas_df",
   "id": "f9a5e143011bfb73"
  },
  {
   "metadata": {
    "ExecuteTime": {
     "end_time": "2025-03-24T19:38:15.563996Z",
     "start_time": "2025-03-24T19:38:15.467569Z"
    }
   },
   "cell_type": "code",
   "source": [
    "# mezcla_df = mezcla_df.to_pandas()"
   ],
   "id": "d696b2194440703e",
   "outputs": [],
   "execution_count": 65
  },
  {
   "metadata": {
    "ExecuteTime": {
     "end_time": "2025-03-24T21:30:42.460277Z",
     "start_time": "2025-03-24T21:30:42.022850Z"
    }
   },
   "cell_type": "code",
   "source": [
    "import pandas as pd\n",
    "from pathlib import Path\n",
    "import shutil\n",
    "import os\n",
    "\n",
    "# Suponiendo que ya tienes un DataFrame llamado pandas_df con columnas 'filepath' y 'new_filepath'\n",
    "\n",
    "\n",
    "def copy_files_from_dataframe(df):\n",
    "    \"\"\"\n",
    "    Copia archivos desde las rutas en la columna 'filepath' a las rutas en 'new_filepath',\n",
    "    creando los directorios necesarios en el proceso.\n",
    "\n",
    "    Args:\n",
    "        df (pandas.DataFrame): DataFrame con las columnas 'filepath' y 'new_filepath'\n",
    "\n",
    "    Returns:\n",
    "        dict: Estadísticas de la operación (archivos copiados, errores, etc.)\n",
    "    \"\"\"\n",
    "    stats = {\n",
    "        \"total_files\": len(df),\n",
    "        \"successful_copies\": 0,\n",
    "        \"failed_copies\": 0,\n",
    "        \"errors\": [],\n",
    "    }\n",
    "\n",
    "    # Iterar por cada fila del DataFrame\n",
    "    for index, row in df.iterrows():\n",
    "        source_path = Path(row[\"filepath\"])\n",
    "        target_path = Path(row[\"new_filepath\"])\n",
    "\n",
    "        try:\n",
    "            # Verificar si el archivo de origen existe\n",
    "            if not source_path.exists():\n",
    "                raise FileNotFoundError(\n",
    "                    f\"Archivo de origen no encontrado: {source_path}\"\n",
    "                )\n",
    "\n",
    "            # Crear directorios de destino si no existen\n",
    "            target_dir = target_path.parent\n",
    "            target_dir.mkdir(parents=True, exist_ok=True)\n",
    "\n",
    "            # Copiar el archivo\n",
    "            shutil.copy2(source_path, target_path)\n",
    "\n",
    "            # Actualizar estadísticas\n",
    "            stats[\"successful_copies\"] += 1\n",
    "\n",
    "            # Imprimir progreso cada 10 archivos\n",
    "            if stats[\"successful_copies\"] % 10 == 0:\n",
    "                print(\n",
    "                    f\"Progreso: {stats['successful_copies']}/{stats['total_files']} archivos copiados\"\n",
    "                )\n",
    "\n",
    "        except Exception as e:\n",
    "            # Registrar el error\n",
    "            error_info = {\n",
    "                \"index\": index,\n",
    "                \"source\": str(source_path),\n",
    "                \"target\": str(target_path),\n",
    "                \"error\": str(e),\n",
    "            }\n",
    "            stats[\"errors\"].append(error_info)\n",
    "            stats[\"failed_copies\"] += 1\n",
    "            print(f\"Error al copiar archivo {index}: {e}\")\n",
    "\n",
    "    # Imprimir resumen\n",
    "    print(f\"\\nResumen:\")\n",
    "    print(f\"Total de archivos: {stats['total_files']}\")\n",
    "    print(f\"Archivos copiados exitosamente: {stats['successful_copies']}\")\n",
    "    print(f\"Archivos con errores: {stats['failed_copies']}\")\n",
    "\n",
    "    # Opcional: guardar los errores en un archivo CSV para revisión\n",
    "    if stats[\"failed_copies\"] > 0:\n",
    "        error_df = pd.DataFrame(stats[\"errors\"])\n",
    "        error_file = \"errores_copia_archivos.csv\"\n",
    "        error_df.to_csv(error_file, index=False)\n",
    "        print(f\"Detalles de errores guardados en: {error_file}\")\n",
    "\n",
    "    return stats\n",
    "\n",
    "\n",
    "# copy_files_from_dataframe(mezcla_df.dropna(subset=[\"filepath\", \"new_filepath\"]))\n",
    "copy_files_from_dataframe(mezcla_df.to_pandas())"
   ],
   "id": "504dd2f9a21ec1d9",
   "outputs": [
    {
     "name": "stdout",
     "output_type": "stream",
     "text": [
      "Progreso: 10/80 archivos copiados\n",
      "Progreso: 20/80 archivos copiados\n",
      "Progreso: 30/80 archivos copiados\n",
      "Progreso: 40/80 archivos copiados\n",
      "Progreso: 50/80 archivos copiados\n",
      "Progreso: 60/80 archivos copiados\n",
      "Progreso: 70/80 archivos copiados\n",
      "Progreso: 80/80 archivos copiados\n",
      "\n",
      "Resumen:\n",
      "Total de archivos: 80\n",
      "Archivos copiados exitosamente: 80\n",
      "Archivos con errores: 0\n"
     ]
    },
    {
     "data": {
      "text/plain": [
       "{'total_files': 80, 'successful_copies': 80, 'failed_copies': 0, 'errors': []}"
      ]
     },
     "execution_count": 5,
     "metadata": {},
     "output_type": "execute_result"
    }
   ],
   "execution_count": 5
  },
  {
   "metadata": {},
   "cell_type": "code",
   "outputs": [],
   "execution_count": null,
   "source": "",
   "id": "33976d760b46f6bd"
  }
 ],
 "metadata": {
  "kernelspec": {
   "display_name": "Python 3",
   "language": "python",
   "name": "python3"
  },
  "language_info": {
   "codemirror_mode": {
    "name": "ipython",
    "version": 2
   },
   "file_extension": ".py",
   "mimetype": "text/x-python",
   "name": "python",
   "nbconvert_exporter": "python",
   "pygments_lexer": "ipython2",
   "version": "2.7.6"
  }
 },
 "nbformat": 4,
 "nbformat_minor": 5
}
