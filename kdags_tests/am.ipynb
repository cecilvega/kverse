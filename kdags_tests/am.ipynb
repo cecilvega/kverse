{
 "cells": [
  {
   "cell_type": "code",
   "execution_count": null,
   "id": "initial_id",
   "metadata": {
    "collapsed": true
   },
   "outputs": [],
   "source": [
    "%load_ext autoreload\n",
    "%autoreload 2\n",
    "%reload_ext autoreload\n",
    "\n",
    "import sys\n",
    "from pathlib import Path\n",
    "\n",
    "import pandas as pd\n",
    "import polars as pl\n",
    "import dagster as dg\n",
    "from kdags.resources.dplyr import *\n",
    "from kdags.resources.tidyr import *\n",
    "from io import BytesIO\n",
    "import pdfplumber\n",
    "\n",
    "from datetime import datetime\n",
    "import re\n",
    "import os\n",
    "from kdags.definitions import *\n",
    "from kdags.readr import *\n",
    "\n",
    "context = dg.build_asset_context()"
   ]
  }
 ],
 "metadata": {
  "kernelspec": {
   "display_name": "Python 3",
   "language": "python",
   "name": "python3"
  },
  "language_info": {
   "codemirror_mode": {
    "name": "ipython",
    "version": 2
   },
   "file_extension": ".py",
   "mimetype": "text/x-python",
   "name": "python",
   "nbconvert_exporter": "python",
   "pygments_lexer": "ipython2",
   "version": "2.7.6"
  }
 },
 "nbformat": 4,
 "nbformat_minor": 5
}
