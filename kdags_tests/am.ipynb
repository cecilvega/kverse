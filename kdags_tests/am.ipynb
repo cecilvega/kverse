{
 "cells": [
  {
   "cell_type": "code",
   "id": "initial_id",
   "metadata": {
    "collapsed": true
   },
   "source": [
    "%load_ext autoreload\n",
    "%autoreload 2\n",
    "%reload_ext autoreload\n",
    "\n",
    "import sys\n",
    "from pathlib import Path\n",
    "\n",
    "import pandas as pd\n",
    "import polars as pl\n",
    "import dagster as dg\n",
    "from kdags.resources.dplyr import *\n",
    "from kdags.resources.tidyr import *\n",
    "from io import BytesIO\n",
    "import pdfplumber\n",
    "\n",
    "from datetime import datetime\n",
    "import re\n",
    "import os\n",
    "from kdags.definitions import *\n",
    "from kdags.readr import *\n",
    "\n",
    "context = dg.build_asset_context()"
   ],
   "outputs": [],
   "execution_count": null
  },
  {
   "metadata": {},
   "cell_type": "code",
   "source": "work_order_history_df = Readr.Maintenance.read_work_order_history()",
   "id": "1586b7016dfa9ecc",
   "outputs": [],
   "execution_count": null
  },
  {
   "metadata": {},
   "cell_type": "code",
   "source": "Readr.Operation.read_events()",
   "id": "d68e1fcaf2ec5096",
   "outputs": [],
   "execution_count": null
  },
  {
   "metadata": {},
   "cell_type": "code",
   "source": [
    "start_date = \"2024-01-01\"\n",
    "end_date = \"2024-01-31\"\n",
    "equipment_name = \"TK857\"\n",
    "df = work_order_history_df.copy()\n",
    "df = df.loc[\n",
    "    (df[\"equipment_name\"] == equipment_name)\n",
    "    & (df[\"start_date\"] >= start_date)\n",
    "    & (df[\"end_date\"] <= end_date)\n",
    "]\n",
    "print(\"Descripciones de mantenimiento:\")\n",
    "df[\"task_text\"].to_list()"
   ],
   "id": "484c18b0e4ded022",
   "outputs": [],
   "execution_count": null
  }
 ],
 "metadata": {
  "kernelspec": {
   "display_name": "Python 3",
   "language": "python",
   "name": "python3"
  },
  "language_info": {
   "codemirror_mode": {
    "name": "ipython",
    "version": 2
   },
   "file_extension": ".py",
   "mimetype": "text/x-python",
   "name": "python",
   "nbconvert_exporter": "python",
   "pygments_lexer": "ipython2",
   "version": "2.7.6"
  }
 },
 "nbformat": 4,
 "nbformat_minor": 5
}
