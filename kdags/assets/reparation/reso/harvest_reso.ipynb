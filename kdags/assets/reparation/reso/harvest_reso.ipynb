{
 "cells": [
  {
   "cell_type": "code",
   "id": "initial_id",
   "metadata": {
    "collapsed": true,
    "ExecuteTime": {
     "end_time": "2025-02-17T23:14:47.956979Z",
     "start_time": "2025-02-17T23:14:47.655848Z"
    }
   },
   "source": [
    "# from reso_extract import ms_graph\n",
    "%load_ext autoreload\n",
    "%autoreload 2\n",
    "%reload_ext autoreload\n",
    "\n",
    "import sys\n",
    "from pathlib import Path\n",
    "\n",
    "# Define the path you want to add\n",
    "new_path = Path(\"C:\\\\Users\\\\andmn\\\\PycharmProjects\\\\kverse\")\n",
    "\n",
    "# Convert Path object to string and append it to sys.path\n",
    "sys.path.append(str(new_path))\n",
    "from selenium.webdriver.support.wait import WebDriverWait\n",
    "from kdags.assets.reparation.reso.web_driver import initialize_driver, login_to_reso\n",
    "from kdags.assets.reparation.reso.document_extractor import (\n",
    "    extract_docs_data,\n",
    "    click_see_service_order,\n",
    ")\n",
    "from kdags.assets.reparation.reso.file_processor import process_docs_data\n",
    "from kdags.assets.reparation.reso.web_utils import wait_for_page_load, ensure_clickable\n",
    "from kdags.assets.reparation.reso.file_utils import save_file_locally\n",
    "from kdags.assets.reparation.reso.config import DEFAULT_WAIT\n",
    "import pandas as pd\n",
    "from selenium.webdriver.common.by import By\n",
    "\n",
    "from selenium.webdriver.support import expected_conditions as EC\n",
    "\n",
    "driver = initialize_driver()\n",
    "wait = WebDriverWait(driver, DEFAULT_WAIT)"
   ],
   "outputs": [
    {
     "name": "stdout",
     "output_type": "stream",
     "text": [
      "The autoreload extension is already loaded. To reload it, use:\n",
      "  %reload_ext autoreload\n"
     ]
    }
   ],
   "execution_count": 8
  },
  {
   "metadata": {
    "ExecuteTime": {
     "end_time": "2025-02-17T23:00:20.997580Z",
     "start_time": "2025-02-17T22:59:33.359941Z"
    }
   },
   "cell_type": "code",
   "source": "login_to_reso(driver, wait)",
   "id": "cd1b48fb4255cb1e",
   "outputs": [
    {
     "data": {
      "text/plain": [
       "True"
      ]
     },
     "execution_count": 3,
     "metadata": {},
     "output_type": "execute_result"
    }
   ],
   "execution_count": 3
  },
  {
   "metadata": {
    "ExecuteTime": {
     "end_time": "2025-02-17T23:17:15.170617Z",
     "start_time": "2025-02-17T23:17:14.938304Z"
    }
   },
   "cell_type": "code",
   "source": [
    "service_order_df = pd.read_excel(\n",
    "    r\"C:\\Users\\andmn\\PycharmProjects\\kbooks\\banco_parrillas_blower.xlsx\"\n",
    ")\n",
    "service_order_df"
   ],
   "id": "a438234df68c237e",
   "outputs": [
    {
     "data": {
      "text/plain": [
       "    service_order  customer_work_order component_serial changeout_date  \\\n",
       "0        14134107             18118435      EE07020083A     2023-01-11   \n",
       "1        14134929             18118983       EE99100156     2023-02-16   \n",
       "2        14135461             18119426       EE12100031     2023-03-21   \n",
       "3        14135762             18119693       EE04070186     2023-03-30   \n",
       "4        14136123             18119819       EE13111405     2023-04-16   \n",
       "..            ...                  ...              ...            ...   \n",
       "68       14151150             18130120       EE14091200     2024-11-22   \n",
       "69       14151046             18130428       EE06050308     2024-12-08   \n",
       "70       14151789             18130771       EE13111350     2024-12-27   \n",
       "71       14151972             18130827       EE21060597     2025-01-09   \n",
       "72       14152210             18131182       EE20040732     2025-01-20   \n",
       "\n",
       "   subcomponent_name  \n",
       "0             blower  \n",
       "1             blower  \n",
       "2             blower  \n",
       "3             blower  \n",
       "4             blower  \n",
       "..               ...  \n",
       "68            blower  \n",
       "69            blower  \n",
       "70            blower  \n",
       "71            blower  \n",
       "72            blower  \n",
       "\n",
       "[73 rows x 5 columns]"
      ],
      "text/html": [
       "<div>\n",
       "<style scoped>\n",
       "    .dataframe tbody tr th:only-of-type {\n",
       "        vertical-align: middle;\n",
       "    }\n",
       "\n",
       "    .dataframe tbody tr th {\n",
       "        vertical-align: top;\n",
       "    }\n",
       "\n",
       "    .dataframe thead th {\n",
       "        text-align: right;\n",
       "    }\n",
       "</style>\n",
       "<table border=\"1\" class=\"dataframe\">\n",
       "  <thead>\n",
       "    <tr style=\"text-align: right;\">\n",
       "      <th></th>\n",
       "      <th>service_order</th>\n",
       "      <th>customer_work_order</th>\n",
       "      <th>component_serial</th>\n",
       "      <th>changeout_date</th>\n",
       "      <th>subcomponent_name</th>\n",
       "    </tr>\n",
       "  </thead>\n",
       "  <tbody>\n",
       "    <tr>\n",
       "      <th>0</th>\n",
       "      <td>14134107</td>\n",
       "      <td>18118435</td>\n",
       "      <td>EE07020083A</td>\n",
       "      <td>2023-01-11</td>\n",
       "      <td>blower</td>\n",
       "    </tr>\n",
       "    <tr>\n",
       "      <th>1</th>\n",
       "      <td>14134929</td>\n",
       "      <td>18118983</td>\n",
       "      <td>EE99100156</td>\n",
       "      <td>2023-02-16</td>\n",
       "      <td>blower</td>\n",
       "    </tr>\n",
       "    <tr>\n",
       "      <th>2</th>\n",
       "      <td>14135461</td>\n",
       "      <td>18119426</td>\n",
       "      <td>EE12100031</td>\n",
       "      <td>2023-03-21</td>\n",
       "      <td>blower</td>\n",
       "    </tr>\n",
       "    <tr>\n",
       "      <th>3</th>\n",
       "      <td>14135762</td>\n",
       "      <td>18119693</td>\n",
       "      <td>EE04070186</td>\n",
       "      <td>2023-03-30</td>\n",
       "      <td>blower</td>\n",
       "    </tr>\n",
       "    <tr>\n",
       "      <th>4</th>\n",
       "      <td>14136123</td>\n",
       "      <td>18119819</td>\n",
       "      <td>EE13111405</td>\n",
       "      <td>2023-04-16</td>\n",
       "      <td>blower</td>\n",
       "    </tr>\n",
       "    <tr>\n",
       "      <th>...</th>\n",
       "      <td>...</td>\n",
       "      <td>...</td>\n",
       "      <td>...</td>\n",
       "      <td>...</td>\n",
       "      <td>...</td>\n",
       "    </tr>\n",
       "    <tr>\n",
       "      <th>68</th>\n",
       "      <td>14151150</td>\n",
       "      <td>18130120</td>\n",
       "      <td>EE14091200</td>\n",
       "      <td>2024-11-22</td>\n",
       "      <td>blower</td>\n",
       "    </tr>\n",
       "    <tr>\n",
       "      <th>69</th>\n",
       "      <td>14151046</td>\n",
       "      <td>18130428</td>\n",
       "      <td>EE06050308</td>\n",
       "      <td>2024-12-08</td>\n",
       "      <td>blower</td>\n",
       "    </tr>\n",
       "    <tr>\n",
       "      <th>70</th>\n",
       "      <td>14151789</td>\n",
       "      <td>18130771</td>\n",
       "      <td>EE13111350</td>\n",
       "      <td>2024-12-27</td>\n",
       "      <td>blower</td>\n",
       "    </tr>\n",
       "    <tr>\n",
       "      <th>71</th>\n",
       "      <td>14151972</td>\n",
       "      <td>18130827</td>\n",
       "      <td>EE21060597</td>\n",
       "      <td>2025-01-09</td>\n",
       "      <td>blower</td>\n",
       "    </tr>\n",
       "    <tr>\n",
       "      <th>72</th>\n",
       "      <td>14152210</td>\n",
       "      <td>18131182</td>\n",
       "      <td>EE20040732</td>\n",
       "      <td>2025-01-20</td>\n",
       "      <td>blower</td>\n",
       "    </tr>\n",
       "  </tbody>\n",
       "</table>\n",
       "<p>73 rows × 5 columns</p>\n",
       "</div>"
      ]
     },
     "execution_count": 10,
     "metadata": {},
     "output_type": "execute_result"
    }
   ],
   "execution_count": 10
  },
  {
   "metadata": {
    "jupyter": {
     "is_executing": true
    },
    "ExecuteTime": {
     "start_time": "2025-02-17T23:17:24.005197Z"
    }
   },
   "cell_type": "code",
   "source": [
    "# Ensure the 'processed' column exists (default False)\n",
    "if \"processed\" not in service_order_df.columns:\n",
    "    service_order_df[\"processed\"] = False\n",
    "\n",
    "\n",
    "# Iterate over service orders that are not yet processed\n",
    "for idx, ir in service_order_df.iterrows():\n",
    "    if ir.processed:\n",
    "        continue  # Skip already processed rows\n",
    "\n",
    "    print(f\"\\nProcessing Row {idx} for Service Order: {ir.service_order}\")\n",
    "\n",
    "    # Wait for page to be fully loaded\n",
    "    wait_for_page_load(wait)\n",
    "\n",
    "    # Wait for and enter the service order code\n",
    "    input_field = wait.until(EC.presence_of_element_located((By.ID, \"codigoBuscar\")))\n",
    "    input_field.clear()\n",
    "    input_field.send_keys(ir.service_order)\n",
    "\n",
    "    # Click search button\n",
    "    search_button = wait.until(EC.element_to_be_clickable((By.ID, \"buttonBuscar\")))\n",
    "    ensure_clickable(driver, search_button)\n",
    "    search_button.click()\n",
    "\n",
    "    # Wait for results to load\n",
    "    wait_for_page_load(wait)\n",
    "    wait.until(EC.presence_of_element_located((By.ID, \"WebGrid\")))\n",
    "\n",
    "    # Click the 'See service order' button\n",
    "    click_see_service_order(wait)\n",
    "\n",
    "    # Wait for page load after clicking service order\n",
    "    wait_for_page_load(wait)\n",
    "\n",
    "    # Click the Documents tab and wait for it to load\n",
    "    docs_tab = wait.until(EC.element_to_be_clickable((By.ID, \"v-pills-documentos-tab\")))\n",
    "    ensure_clickable(driver, docs_tab)\n",
    "    docs_tab.click()\n",
    "    wait_for_page_load(wait)\n",
    "\n",
    "    # Extract the docs data from the documents section\n",
    "    docs_data = extract_docs_data(driver, wait)\n",
    "\n",
    "    # Process the extracted docs data\n",
    "    processed_df = process_docs_data(\n",
    "        docs_data, ir.subcomponent_name, ir.component_serial\n",
    "    ).query(\"file_type=='INFORMES'\")\n",
    "\n",
    "    # Iterate over each document row and upload\n",
    "    for jdx, row in processed_df.iterrows():\n",
    "        result_url = save_file_locally(\n",
    "            target_folder=row[\"target_folder\"],\n",
    "            file_name=row[\"file_name\"],\n",
    "            blob_url=row[\"blob_url\"],\n",
    "        )\n",
    "        print(f\"Document {jdx}: Uploaded successfully: {result_url}\")\n",
    "\n",
    "    # Click the close button\n",
    "    close_button = wait.until(EC.element_to_be_clickable((By.ID, \"closePCI\")))\n",
    "    ensure_clickable(driver, close_button)\n",
    "    close_button.click()\n",
    "\n",
    "    # Wait for page to return to initial state\n",
    "    wait_for_page_load(wait)\n",
    "\n",
    "    # Mark the service order as processed\n",
    "    service_order_df.loc[idx, \"processed\"] = True"
   ],
   "id": "1763bdaaffff5065",
   "outputs": [
    {
     "name": "stdout",
     "output_type": "stream",
     "text": [
      "\n",
      "Processing Row 0 for Service Order: 14134107\n"
     ]
    }
   ],
   "execution_count": null
  }
 ],
 "metadata": {
  "kernelspec": {
   "display_name": "Python 3",
   "language": "python",
   "name": "python3"
  },
  "language_info": {
   "codemirror_mode": {
    "name": "ipython",
    "version": 2
   },
   "file_extension": ".py",
   "mimetype": "text/x-python",
   "name": "python",
   "nbconvert_exporter": "python",
   "pygments_lexer": "ipython2",
   "version": "2.7.6"
  }
 },
 "nbformat": 4,
 "nbformat_minor": 5
}
