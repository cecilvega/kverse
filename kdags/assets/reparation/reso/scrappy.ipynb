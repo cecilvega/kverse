{
 "cells": [
  {
   "metadata": {
    "collapsed": true,
    "ExecuteTime": {
     "end_time": "2025-04-20T21:59:50.706861Z",
     "start_time": "2025-04-20T21:59:48.089137Z"
    }
   },
   "cell_type": "code",
   "source": [
    "# from reso_extract import ms_graph\n",
    "%load_ext autoreload\n",
    "%autoreload 2\n",
    "%reload_ext autoreload\n",
    "\n",
    "import sys\n",
    "from pathlib import Path\n",
    "\n",
    "# Define the path you want to add\n",
    "new_path = Path(\"C:\\\\Users\\\\andmn\\\\PycharmProjects\\\\kverse\")\n",
    "\n",
    "# Convert Path object to string and append it to sys.path\n",
    "sys.path.append(str(new_path))\n",
    "from selenium.webdriver.support.wait import WebDriverWait\n",
    "\n",
    "from kdags.assets.reparation.reso_old.file_processor import process_docs_data\n",
    "\n",
    "from kdags.assets.reparation.reso.web_driver import *\n",
    "from kdags.assets.reparation.reso.main_navigation import *\n",
    "from kdags.assets.reparation.reso.component_status_scraper import *\n",
    "import pandas as pd\n",
    "from selenium.webdriver.common.by import By\n",
    "\n",
    "from selenium.webdriver.support import expected_conditions as EC\n",
    "import dagster as dg\n",
    "\n",
    "context = dg.build_asset_context()"
   ],
   "id": "24d71995476b175a",
   "outputs": [],
   "execution_count": 1
  },
  {
   "metadata": {
    "ExecuteTime": {
     "end_time": "2025-04-20T22:05:33.333685Z",
     "start_time": "2025-04-20T22:00:35.615734Z"
    }
   },
   "cell_type": "code",
   "source": [
    "uploaded_uris = []\n",
    "summary_data = {\n",
    "    \"years_processed\": [],\n",
    "    \"uploaded_files\": [],\n",
    "    \"failed_years\": [],\n",
    "    \"num_files_uploaded\": 0,\n",
    "    \"status\": \"incomplete\",\n",
    "}\n",
    "\n",
    "num_years_back = 2  # Define how many years back to process\n",
    "# --- Process Past Years ---\n",
    "current_date = datetime.now()\n",
    "current_year = current_date.year\n",
    "start_loop_year = current_year\n",
    "end_loop_year = start_loop_year - num_years_back\n",
    "\n",
    "# --- Initialize Driver ---\n",
    "context.log.info(\"Initializing WebDriver...\")\n",
    "driver = initialize_driver()\n",
    "wait = WebDriverWait(driver, DEFAULT_WAIT)\n",
    "context.log.info(\"WebDriver initialized.\")\n",
    "\n",
    "# --- Login ---\n",
    "context.log.info(\"Logging into RESO+...\")\n",
    "login_to_reso(driver, wait)\n",
    "context.log.info(\"Login successful.\")\n",
    "\n",
    "context.log.info(f\"Starting year loop from {start_loop_year} down to {end_loop_year}...\")\n",
    "\n",
    "for year in range(start_loop_year, end_loop_year - 1, -1):\n",
    "    context.log.info(f\"Processing Year: {year}\")\n",
    "    summary_data[\"years_processed\"].append(year)\n",
    "    start_date_str = f\"01-01-{year}\"\n",
    "    end_date_str = f\"31-12-{year}\"\n",
    "\n",
    "    # --- Navigate ---\n",
    "    driver.get(RESO_URL)\n",
    "    click_reportabilidad(driver, wait)\n",
    "    click_component_status(driver, wait)\n",
    "    context.log.info(\"Navigated to Estatus Componente page.\")\n",
    "\n",
    "    # --- Set Default Filters ---\n",
    "    set_default_component_status_filters(driver, wait)\n",
    "    context.log.info(\"Default filters applied.\")\n",
    "\n",
    "    # Set dates for the current year\n",
    "    set_component_status_dates(driver, wait, start_date_str, end_date_str)\n",
    "\n",
    "    # Export the results for the current year\n",
    "    export_component_status_results(driver, wait)\n",
    "\n",
    "    # Define upload URI for the current year\n",
    "    # Using current_date for partition, but year for filename seems intended\n",
    "    partition_path = current_date.strftime(\"y=%Y/m=%m/d=%d\")  # Partition based on run date\n",
    "    az_path = f\"az://bhp-raw-data/RESO/COMPONENT_STATUS/{partition_path}/component_status_{year}.parquet\"\n",
    "\n",
    "    # Upload results and cleanup\n",
    "    uploaded_uri = upload_component_status_results(context, az_path, year)\n",
    "    if uploaded_uri:\n",
    "        uploaded_uris.append(uploaded_uri)\n",
    "        # Optionally add more details per file if needed\n",
    "        summary_data[\"uploaded_files\"].append({\"year\": year, \"az_path\": uploaded_uri})\n",
    "    else:\n",
    "        context.log.error(f\"Upload failed for year {year}\")\n",
    "        summary_data[\"failed_years\"].append(year)\n",
    "        # Decide if you want to stop or continue if one year fails\n",
    "\n",
    "context.log.info(\"Year loop finished.\")\n",
    "summary_data[\"status\"] = \"completed\" if not summary_data[\"failed_years\"] else \"completed_with_errors\"\n",
    "summary_data[\"num_files_uploaded\"] = len(uploaded_uris)\n",
    "\n",
    "context.log.info(\"Closing WebDriver...\")\n",
    "driver.quit()\n",
    "context.log.info(\"WebDriver closed.\")\n",
    "\n",
    "# Return the summary dictionary\n",
    "# context.add_output_metadata(metadata=summary_data)"
   ],
   "id": "88b1304d20760f4f",
   "outputs": [
    {
     "name": "stderr",
     "output_type": "stream",
     "text": [
      "2025-04-20 18:00:36 -0400 - dagster - INFO - system - Initializing WebDriver...\n",
      "2025-04-20 18:00:38 -0400 - dagster - INFO - system - WebDriver initialized.\n",
      "2025-04-20 18:00:38 -0400 - dagster - INFO - system - Logging into RESO+...\n",
      "2025-04-20 18:01:32 -0400 - dagster - INFO - system - Login successful.\n",
      "2025-04-20 18:01:32 -0400 - dagster - INFO - system - Starting year loop from 2025 down to 2023...\n",
      "2025-04-20 18:01:32 -0400 - dagster - INFO - system - Processing Year: 2025\n"
     ]
    },
    {
     "name": "stdout",
     "output_type": "stream",
     "text": [
      "--- Clicking Reportabilidad ---\n",
      "Clicked 'Reportabilidad'.\n"
     ]
    },
    {
     "name": "stderr",
     "output_type": "stream",
     "text": [
      "2025-04-20 18:01:36 -0400 - dagster - INFO - system - Navigated to Estatus Componente page.\n",
      "2025-04-20 18:01:38 -0400 - dagster - INFO - system - Default filters applied.\n"
     ]
    },
    {
     "name": "stdout",
     "output_type": "stream",
     "text": [
      "--- Setting Dates: 01-01-2025 to 31-12-2025 ---\n",
      "Setting 'Date From': 01-01-2025\n",
      "  Target Day: 1\n",
      "  Clicking calendar icon using JavaScript...\n",
      "  Sent keys '01-01-2025' to input field.\n",
      "  Input value confirmed.\n",
      "  Calendar widget is visible.\n",
      "  Looking for day '1' link within the calendar widget...\n",
      "  Found day '1' element. Now waiting for it to be clickable...\n",
      "  Day '1' is clickable.\n",
      "  Clicked day '1' in calendar for 'Date From'.\n",
      "  Calendar widget closed.\n",
      "Setting 'Date Up': 31-12-2025\n",
      "  Target Day: 31\n",
      "  Clicking calendar icon using JavaScript...\n",
      "  Sent keys '31-12-2025' to input field.\n",
      "  Input value confirmed.\n",
      "  Calendar widget is visible.\n",
      "  Looking for day '31' link within the calendar widget...\n",
      "  Found day '31' element. Now waiting for it to be clickable...\n",
      "  Day '31' is clickable.\n",
      "  Clicked day '31' in calendar for 'Date Up'.\n",
      "  Calendar widget closed.\n",
      "\n",
      "Finished setting dates: 01-01-2025 to 31-12-2025\n",
      "--- Uploading results for year 2025 to az://bhp-raw-data/RESO/COMPONENT_STATUS/y=2025/m=04/d=20/component_status_2025.parquet ---\n"
     ]
    },
    {
     "name": "stderr",
     "output_type": "stream",
     "text": [
      "2025-04-20 18:01:56 -0400 - dagster - INFO - system - Checking for downloads in: C:\\Users\\vales\\Downloads\n",
      "2025-04-20 18:01:57 -0400 - dagster - INFO - system - Identified most recent Excel file: C:\\Users\\vales\\Downloads\\Components Status (7).xls\n",
      "2025-04-20 18:01:58 -0400 - dagster - INFO - system - Successfully read data from Components Status (7).xls\n",
      "2025-04-20 18:02:02 -0400 - dagster - INFO - system - Successfully uploaded data for year 2025 to az://bhp-raw-data/RESO/COMPONENT_STATUS/y=2025/m=04/d=20/component_status_2025.parquet\n",
      "2025-04-20 18:02:02 -0400 - dagster - INFO - system - Deleting local file: C:\\Users\\vales\\Downloads\\Components Status (7).xls\n",
      "2025-04-20 18:02:02 -0400 - dagster - INFO - system - Deleted local file: Components Status (7).xls\n",
      "2025-04-20 18:02:02 -0400 - dagster - INFO - system - Processing Year: 2024\n"
     ]
    },
    {
     "name": "stdout",
     "output_type": "stream",
     "text": [
      "--- Clicking Reportabilidad ---\n",
      "Clicked 'Reportabilidad'.\n"
     ]
    },
    {
     "name": "stderr",
     "output_type": "stream",
     "text": [
      "2025-04-20 18:02:04 -0400 - dagster - INFO - system - Navigated to Estatus Componente page.\n",
      "2025-04-20 18:02:07 -0400 - dagster - INFO - system - Default filters applied.\n"
     ]
    },
    {
     "name": "stdout",
     "output_type": "stream",
     "text": [
      "--- Setting Dates: 01-01-2024 to 31-12-2024 ---\n",
      "Setting 'Date From': 01-01-2024\n",
      "  Target Day: 1\n",
      "  Clicking calendar icon using JavaScript...\n",
      "  Sent keys '01-01-2024' to input field.\n",
      "  Input value confirmed.\n",
      "  Calendar widget is visible.\n",
      "  Looking for day '1' link within the calendar widget...\n",
      "  Found day '1' element. Now waiting for it to be clickable...\n",
      "  Day '1' is clickable.\n",
      "  Clicked day '1' in calendar for 'Date From'.\n",
      "  Calendar widget closed.\n",
      "Setting 'Date Up': 31-12-2024\n",
      "  Target Day: 31\n",
      "  Clicking calendar icon using JavaScript...\n",
      "  Sent keys '31-12-2024' to input field.\n",
      "  Input value confirmed.\n",
      "  Calendar widget is visible.\n",
      "  Looking for day '31' link within the calendar widget...\n",
      "  Found day '31' element. Now waiting for it to be clickable...\n",
      "  Day '31' is clickable.\n",
      "  Clicked day '31' in calendar for 'Date Up'.\n",
      "  Calendar widget closed.\n",
      "\n",
      "Finished setting dates: 01-01-2024 to 31-12-2024\n",
      "--- Uploading results for year 2024 to az://bhp-raw-data/RESO/COMPONENT_STATUS/y=2025/m=04/d=20/component_status_2024.parquet ---\n"
     ]
    },
    {
     "name": "stderr",
     "output_type": "stream",
     "text": [
      "2025-04-20 18:03:43 -0400 - dagster - INFO - system - Checking for downloads in: C:\\Users\\vales\\Downloads\n",
      "2025-04-20 18:03:44 -0400 - dagster - INFO - system - Identified most recent Excel file: C:\\Users\\vales\\Downloads\\Components Status (7).xls\n",
      "2025-04-20 18:03:50 -0400 - dagster - INFO - system - Successfully read data from Components Status (7).xls\n",
      "2025-04-20 18:03:52 -0400 - dagster - INFO - system - Successfully uploaded data for year 2024 to az://bhp-raw-data/RESO/COMPONENT_STATUS/y=2025/m=04/d=20/component_status_2024.parquet\n",
      "2025-04-20 18:03:52 -0400 - dagster - INFO - system - Deleting local file: C:\\Users\\vales\\Downloads\\Components Status (7).xls\n",
      "2025-04-20 18:03:52 -0400 - dagster - INFO - system - Deleted local file: Components Status (7).xls\n",
      "2025-04-20 18:03:52 -0400 - dagster - INFO - system - Processing Year: 2023\n"
     ]
    },
    {
     "name": "stdout",
     "output_type": "stream",
     "text": [
      "--- Clicking Reportabilidad ---\n",
      "Clicked 'Reportabilidad'.\n"
     ]
    },
    {
     "name": "stderr",
     "output_type": "stream",
     "text": [
      "2025-04-20 18:03:54 -0400 - dagster - INFO - system - Navigated to Estatus Componente page.\n",
      "2025-04-20 18:03:55 -0400 - dagster - INFO - system - Default filters applied.\n"
     ]
    },
    {
     "name": "stdout",
     "output_type": "stream",
     "text": [
      "--- Setting Dates: 01-01-2023 to 31-12-2023 ---\n",
      "Setting 'Date From': 01-01-2023\n",
      "  Target Day: 1\n",
      "  Clicking calendar icon using JavaScript...\n",
      "  Sent keys '01-01-2023' to input field.\n",
      "  Input value confirmed.\n",
      "  Calendar widget is visible.\n",
      "  Looking for day '1' link within the calendar widget...\n",
      "  Found day '1' element. Now waiting for it to be clickable...\n",
      "  Day '1' is clickable.\n",
      "  Clicked day '1' in calendar for 'Date From'.\n",
      "  Calendar widget closed.\n",
      "Setting 'Date Up': 31-12-2023\n",
      "  Target Day: 31\n",
      "  Clicking calendar icon using JavaScript...\n",
      "  Sent keys '31-12-2023' to input field.\n",
      "  Input value confirmed.\n",
      "  Calendar widget is visible.\n",
      "  Looking for day '31' link within the calendar widget...\n",
      "  Found day '31' element. Now waiting for it to be clickable...\n",
      "  Day '31' is clickable.\n",
      "  Clicked day '31' in calendar for 'Date Up'.\n",
      "  Calendar widget closed.\n",
      "\n",
      "Finished setting dates: 01-01-2023 to 31-12-2023\n",
      "--- Uploading results for year 2023 to az://bhp-raw-data/RESO/COMPONENT_STATUS/y=2025/m=04/d=20/component_status_2023.parquet ---\n"
     ]
    },
    {
     "name": "stderr",
     "output_type": "stream",
     "text": [
      "2025-04-20 18:05:17 -0400 - dagster - INFO - system - Checking for downloads in: C:\\Users\\vales\\Downloads\n",
      "2025-04-20 18:05:18 -0400 - dagster - INFO - system - Identified most recent Excel file: C:\\Users\\vales\\Downloads\\Components Status (7).xls\n",
      "2025-04-20 18:05:25 -0400 - dagster - INFO - system - Successfully read data from Components Status (7).xls\n",
      "2025-04-20 18:05:30 -0400 - dagster - INFO - system - Successfully uploaded data for year 2023 to az://bhp-raw-data/RESO/COMPONENT_STATUS/y=2025/m=04/d=20/component_status_2023.parquet\n",
      "2025-04-20 18:05:30 -0400 - dagster - INFO - system - Deleting local file: C:\\Users\\vales\\Downloads\\Components Status (7).xls\n",
      "2025-04-20 18:05:30 -0400 - dagster - INFO - system - Deleted local file: Components Status (7).xls\n",
      "2025-04-20 18:05:30 -0400 - dagster - INFO - system - Year loop finished.\n",
      "2025-04-20 18:05:30 -0400 - dagster - INFO - system - Closing WebDriver...\n",
      "2025-04-20 18:05:32 -0400 - dagster - INFO - system - WebDriver closed.\n"
     ]
    },
    {
     "ename": "DagsterInvalidPropertyError",
     "evalue": "The add_output_metadata method is not set on the context when an asset or op is directly invoked.",
     "output_type": "error",
     "traceback": [
      "\u001B[31m---------------------------------------------------------------------------\u001B[39m",
      "\u001B[31mDagsterInvalidPropertyError\u001B[39m               Traceback (most recent call last)",
      "\u001B[36mCell\u001B[39m\u001B[36m \u001B[39m\u001B[32mIn[2]\u001B[39m\u001B[32m, line 77\u001B[39m\n\u001B[32m     74\u001B[39m context.log.info(\u001B[33m\"\u001B[39m\u001B[33mWebDriver closed.\u001B[39m\u001B[33m\"\u001B[39m)\n\u001B[32m     76\u001B[39m \u001B[38;5;66;03m# Return the summary dictionary\u001B[39;00m\n\u001B[32m---> \u001B[39m\u001B[32m77\u001B[39m \u001B[43mcontext\u001B[49m\u001B[43m.\u001B[49m\u001B[43madd_output_metadata\u001B[49m\u001B[43m(\u001B[49m\u001B[43mmetadata\u001B[49m\u001B[43m=\u001B[49m\u001B[43msummary_data\u001B[49m\u001B[43m)\u001B[49m\n",
      "\u001B[36mFile \u001B[39m\u001B[32m~\\DataspellProjects\\workspace\\venv\\Lib\\site-packages\\dagster\\_core\\execution\\context\\asset_execution_context.py:462\u001B[39m, in \u001B[36mAssetExecutionContext.add_output_metadata\u001B[39m\u001B[34m(self, metadata, output_name, mapping_key)\u001B[39m\n\u001B[32m    454\u001B[39m \u001B[38;5;129m@public\u001B[39m\n\u001B[32m    455\u001B[39m \u001B[38;5;129m@_copy_docs_from_op_execution_context\u001B[39m\n\u001B[32m    456\u001B[39m \u001B[38;5;28;01mdef\u001B[39;00m\u001B[38;5;250m \u001B[39m\u001B[34madd_output_metadata\u001B[39m(\n\u001B[32m   (...)\u001B[39m\u001B[32m    460\u001B[39m     mapping_key: Optional[\u001B[38;5;28mstr\u001B[39m] = \u001B[38;5;28;01mNone\u001B[39;00m,\n\u001B[32m    461\u001B[39m ) -> \u001B[38;5;28;01mNone\u001B[39;00m:\n\u001B[32m--> \u001B[39m\u001B[32m462\u001B[39m     \u001B[38;5;28;01mreturn\u001B[39;00m \u001B[38;5;28;43mself\u001B[39;49m\u001B[43m.\u001B[49m\u001B[43mop_execution_context\u001B[49m\u001B[43m.\u001B[49m\u001B[43madd_output_metadata\u001B[49m\u001B[43m(\u001B[49m\n\u001B[32m    463\u001B[39m \u001B[43m        \u001B[49m\u001B[43mmetadata\u001B[49m\u001B[43m=\u001B[49m\u001B[43mmetadata\u001B[49m\u001B[43m,\u001B[49m\n\u001B[32m    464\u001B[39m \u001B[43m        \u001B[49m\u001B[43moutput_name\u001B[49m\u001B[43m=\u001B[49m\u001B[43moutput_name\u001B[49m\u001B[43m,\u001B[49m\n\u001B[32m    465\u001B[39m \u001B[43m        \u001B[49m\u001B[43mmapping_key\u001B[49m\u001B[43m=\u001B[49m\u001B[43mmapping_key\u001B[49m\u001B[43m,\u001B[49m\n\u001B[32m    466\u001B[39m \u001B[43m    \u001B[49m\u001B[43m)\u001B[49m\n",
      "\u001B[36mFile \u001B[39m\u001B[32m~\\DataspellProjects\\workspace\\venv\\Lib\\site-packages\\dagster\\_core\\execution\\context\\invocation.py:706\u001B[39m, in \u001B[36mDirectOpExecutionContext.add_output_metadata\u001B[39m\u001B[34m(self, metadata, output_name, mapping_key)\u001B[39m\n\u001B[32m    672\u001B[39m \u001B[38;5;28;01mdef\u001B[39;00m\u001B[38;5;250m \u001B[39m\u001B[34madd_output_metadata\u001B[39m(\n\u001B[32m    673\u001B[39m     \u001B[38;5;28mself\u001B[39m,\n\u001B[32m    674\u001B[39m     metadata: Mapping[\u001B[38;5;28mstr\u001B[39m, Any],\n\u001B[32m    675\u001B[39m     output_name: Optional[\u001B[38;5;28mstr\u001B[39m] = \u001B[38;5;28;01mNone\u001B[39;00m,\n\u001B[32m    676\u001B[39m     mapping_key: Optional[\u001B[38;5;28mstr\u001B[39m] = \u001B[38;5;28;01mNone\u001B[39;00m,\n\u001B[32m    677\u001B[39m ) -> \u001B[38;5;28;01mNone\u001B[39;00m:\n\u001B[32m    678\u001B[39m \u001B[38;5;250m    \u001B[39m\u001B[33;03m\"\"\"Add metadata to one of the outputs of an op.\u001B[39;00m\n\u001B[32m    679\u001B[39m \n\u001B[32m    680\u001B[39m \u001B[33;03m    This can only be used once per output in the body of an op. Using this method with the same output_name more than once within an op will result in an error.\u001B[39;00m\n\u001B[32m   (...)\u001B[39m\u001B[32m    704\u001B[39m \n\u001B[32m    705\u001B[39m \u001B[33;03m    \"\"\"\u001B[39;00m\n\u001B[32m--> \u001B[39m\u001B[32m706\u001B[39m     \u001B[38;5;28;43mself\u001B[39;49m\u001B[43m.\u001B[49m\u001B[43m_check_bound_to_invocation\u001B[49m\u001B[43m(\u001B[49m\u001B[43mfn_name\u001B[49m\u001B[43m=\u001B[49m\u001B[33;43m\"\u001B[39;49m\u001B[33;43madd_output_metadata\u001B[39;49m\u001B[33;43m\"\u001B[39;49m\u001B[43m,\u001B[49m\u001B[43m \u001B[49m\u001B[43mfn_type\u001B[49m\u001B[43m=\u001B[49m\u001B[33;43m\"\u001B[39;49m\u001B[33;43mmethod\u001B[39;49m\u001B[33;43m\"\u001B[39;49m\u001B[43m)\u001B[49m\n\u001B[32m    707\u001B[39m     metadata = check.mapping_param(metadata, \u001B[33m\"\u001B[39m\u001B[33mmetadata\u001B[39m\u001B[33m\"\u001B[39m, key_type=\u001B[38;5;28mstr\u001B[39m)\n\u001B[32m    708\u001B[39m     output_name = check.opt_str_param(output_name, \u001B[33m\"\u001B[39m\u001B[33moutput_name\u001B[39m\u001B[33m\"\u001B[39m)\n",
      "\u001B[36mFile \u001B[39m\u001B[32m~\\DataspellProjects\\workspace\\venv\\Lib\\site-packages\\dagster\\_core\\execution\\context\\invocation.py:254\u001B[39m, in \u001B[36mDirectOpExecutionContext._check_bound_to_invocation\u001B[39m\u001B[34m(self, fn_name, fn_type)\u001B[39m\n\u001B[32m    252\u001B[39m \u001B[38;5;28;01mdef\u001B[39;00m\u001B[38;5;250m \u001B[39m\u001B[34m_check_bound_to_invocation\u001B[39m(\u001B[38;5;28mself\u001B[39m, fn_name: \u001B[38;5;28mstr\u001B[39m, fn_type: \u001B[38;5;28mstr\u001B[39m) -> PerInvocationProperties:\n\u001B[32m    253\u001B[39m     \u001B[38;5;28;01mif\u001B[39;00m \u001B[38;5;28mself\u001B[39m._per_invocation_properties \u001B[38;5;129;01mis\u001B[39;00m \u001B[38;5;28;01mNone\u001B[39;00m:\n\u001B[32m--> \u001B[39m\u001B[32m254\u001B[39m         \u001B[38;5;28;01mraise\u001B[39;00m DagsterInvalidPropertyError(_property_msg(fn_name, fn_type))\n\u001B[32m    255\u001B[39m     \u001B[38;5;66;03m# return self._per_invocation_properties so that the calling function can access properties\u001B[39;00m\n\u001B[32m    256\u001B[39m     \u001B[38;5;66;03m# of self._per_invocation_properties without causing pyright errors\u001B[39;00m\n\u001B[32m    257\u001B[39m     \u001B[38;5;28;01mreturn\u001B[39;00m \u001B[38;5;28mself\u001B[39m._per_invocation_properties\n",
      "\u001B[31mDagsterInvalidPropertyError\u001B[39m: The add_output_metadata method is not set on the context when an asset or op is directly invoked."
     ]
    }
   ],
   "execution_count": 2
  }
 ],
 "metadata": {
  "kernelspec": {
   "display_name": "Python 3",
   "language": "python",
   "name": "python3"
  },
  "language_info": {
   "codemirror_mode": {
    "name": "ipython",
    "version": 2
   },
   "file_extension": ".py",
   "mimetype": "text/x-python",
   "name": "python",
   "nbconvert_exporter": "python",
   "pygments_lexer": "ipython2",
   "version": "2.7.6"
  }
 },
 "nbformat": 4,
 "nbformat_minor": 5
}
